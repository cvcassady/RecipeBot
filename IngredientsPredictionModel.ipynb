{
 "cells": [
  {
   "cell_type": "code",
   "execution_count": 1,
   "metadata": {
    "collapsed": false
   },
   "outputs": [
    {
     "name": "stderr",
     "output_type": "stream",
     "text": [
      "Using TensorFlow backend.\n"
     ]
    }
   ],
   "source": [
    "import tensorflow as tf\n",
    "import numpy as np\n",
    "import random, json, string, pickle\n",
    "import keras\n",
    "import keras.layers\n",
    "from keras.layers.core import Flatten, Dense, Dropout\n",
    "from keras.layers.convolutional import Convolution2D, MaxPooling2D, ZeroPadding2D\n",
    "import keras.models\n",
    "from keras.models import Sequential\n",
    "import keras.optimizers\n",
    "import keras.callbacks\n",
    "from keras.preprocessing import image\n",
    "from keras.preprocessing.image import ImageDataGenerator\n",
    "import matplotlib.pyplot as plt\n",
    "import sqlite3\n",
    "%matplotlib inline\n",
    "\n",
    "import keras.applications.vgg16 as vgg16"
   ]
  },
  {
   "cell_type": "code",
   "execution_count": 2,
   "metadata": {
    "collapsed": false
   },
   "outputs": [
    {
     "data": {
      "text/html": [
       "\n",
       "    <div class=\"bk-root\">\n",
       "        <a href=\"http://bokeh.pydata.org\" target=\"_blank\" class=\"bk-logo bk-logo-small bk-logo-notebook\"></a>\n",
       "        <span id=\"409dfdd1-8988-47da-b4ad-2279b3422a8e\">Loading BokehJS ...</span>\n",
       "    </div>"
      ]
     },
     "metadata": {},
     "output_type": "display_data"
    },
    {
     "data": {
      "application/javascript": [
       "\n",
       "(function(global) {\n",
       "  function now() {\n",
       "    return new Date();\n",
       "  }\n",
       "\n",
       "  var force = true;\n",
       "\n",
       "  if (typeof (window._bokeh_onload_callbacks) === \"undefined\" || force === true) {\n",
       "    window._bokeh_onload_callbacks = [];\n",
       "    window._bokeh_is_loading = undefined;\n",
       "  }\n",
       "\n",
       "\n",
       "  \n",
       "  if (typeof (window._bokeh_timeout) === \"undefined\" || force === true) {\n",
       "    window._bokeh_timeout = Date.now() + 5000;\n",
       "    window._bokeh_failed_load = false;\n",
       "  }\n",
       "\n",
       "  var NB_LOAD_WARNING = {'data': {'text/html':\n",
       "     \"<div style='background-color: #fdd'>\\n\"+\n",
       "     \"<p>\\n\"+\n",
       "     \"BokehJS does not appear to have successfully loaded. If loading BokehJS from CDN, this \\n\"+\n",
       "     \"may be due to a slow or bad network connection. Possible fixes:\\n\"+\n",
       "     \"</p>\\n\"+\n",
       "     \"<ul>\\n\"+\n",
       "     \"<li>re-rerun `output_notebook()` to attempt to load from CDN again, or</li>\\n\"+\n",
       "     \"<li>use INLINE resources instead, as so:</li>\\n\"+\n",
       "     \"</ul>\\n\"+\n",
       "     \"<code>\\n\"+\n",
       "     \"from bokeh.resources import INLINE\\n\"+\n",
       "     \"output_notebook(resources=INLINE)\\n\"+\n",
       "     \"</code>\\n\"+\n",
       "     \"</div>\"}};\n",
       "\n",
       "  function display_loaded() {\n",
       "    if (window.Bokeh !== undefined) {\n",
       "      document.getElementById(\"409dfdd1-8988-47da-b4ad-2279b3422a8e\").textContent = \"BokehJS successfully loaded.\";\n",
       "    } else if (Date.now() < window._bokeh_timeout) {\n",
       "      setTimeout(display_loaded, 100)\n",
       "    }\n",
       "  }\n",
       "\n",
       "  function run_callbacks() {\n",
       "    window._bokeh_onload_callbacks.forEach(function(callback) { callback() });\n",
       "    delete window._bokeh_onload_callbacks\n",
       "    console.info(\"Bokeh: all callbacks have finished\");\n",
       "  }\n",
       "\n",
       "  function load_libs(js_urls, callback) {\n",
       "    window._bokeh_onload_callbacks.push(callback);\n",
       "    if (window._bokeh_is_loading > 0) {\n",
       "      console.log(\"Bokeh: BokehJS is being loaded, scheduling callback at\", now());\n",
       "      return null;\n",
       "    }\n",
       "    if (js_urls == null || js_urls.length === 0) {\n",
       "      run_callbacks();\n",
       "      return null;\n",
       "    }\n",
       "    console.log(\"Bokeh: BokehJS not loaded, scheduling load and callback at\", now());\n",
       "    window._bokeh_is_loading = js_urls.length;\n",
       "    for (var i = 0; i < js_urls.length; i++) {\n",
       "      var url = js_urls[i];\n",
       "      var s = document.createElement('script');\n",
       "      s.src = url;\n",
       "      s.async = false;\n",
       "      s.onreadystatechange = s.onload = function() {\n",
       "        window._bokeh_is_loading--;\n",
       "        if (window._bokeh_is_loading === 0) {\n",
       "          console.log(\"Bokeh: all BokehJS libraries loaded\");\n",
       "          run_callbacks()\n",
       "        }\n",
       "      };\n",
       "      s.onerror = function() {\n",
       "        console.warn(\"failed to load library \" + url);\n",
       "      };\n",
       "      console.log(\"Bokeh: injecting script tag for BokehJS library: \", url);\n",
       "      document.getElementsByTagName(\"head\")[0].appendChild(s);\n",
       "    }\n",
       "  };var element = document.getElementById(\"409dfdd1-8988-47da-b4ad-2279b3422a8e\");\n",
       "  if (element == null) {\n",
       "    console.log(\"Bokeh: ERROR: autoload.js configured with elementid '409dfdd1-8988-47da-b4ad-2279b3422a8e' but no matching script tag was found. \")\n",
       "    return false;\n",
       "  }\n",
       "\n",
       "  var js_urls = [\"https://cdn.pydata.org/bokeh/release/bokeh-0.12.4.min.js\", \"https://cdn.pydata.org/bokeh/release/bokeh-widgets-0.12.4.min.js\"];\n",
       "\n",
       "  var inline_js = [\n",
       "    function(Bokeh) {\n",
       "      Bokeh.set_log_level(\"info\");\n",
       "    },\n",
       "    \n",
       "    function(Bokeh) {\n",
       "      \n",
       "      document.getElementById(\"409dfdd1-8988-47da-b4ad-2279b3422a8e\").textContent = \"BokehJS is loading...\";\n",
       "    },\n",
       "    function(Bokeh) {\n",
       "      console.log(\"Bokeh: injecting CSS: https://cdn.pydata.org/bokeh/release/bokeh-0.12.4.min.css\");\n",
       "      Bokeh.embed.inject_css(\"https://cdn.pydata.org/bokeh/release/bokeh-0.12.4.min.css\");\n",
       "      console.log(\"Bokeh: injecting CSS: https://cdn.pydata.org/bokeh/release/bokeh-widgets-0.12.4.min.css\");\n",
       "      Bokeh.embed.inject_css(\"https://cdn.pydata.org/bokeh/release/bokeh-widgets-0.12.4.min.css\");\n",
       "    }\n",
       "  ];\n",
       "\n",
       "  function run_inline_js() {\n",
       "    \n",
       "    if ((window.Bokeh !== undefined) || (force === true)) {\n",
       "      for (var i = 0; i < inline_js.length; i++) {\n",
       "        inline_js[i](window.Bokeh);\n",
       "      }if (force === true) {\n",
       "        display_loaded();\n",
       "      }} else if (Date.now() < window._bokeh_timeout) {\n",
       "      setTimeout(run_inline_js, 100);\n",
       "    } else if (!window._bokeh_failed_load) {\n",
       "      console.log(\"Bokeh: BokehJS failed to load within specified timeout.\");\n",
       "      window._bokeh_failed_load = true;\n",
       "    } else if (force !== true) {\n",
       "      var cell = $(document.getElementById(\"409dfdd1-8988-47da-b4ad-2279b3422a8e\")).parents('.cell').data().cell;\n",
       "      cell.output_area.append_execute_result(NB_LOAD_WARNING)\n",
       "    }\n",
       "\n",
       "  }\n",
       "\n",
       "  if (window._bokeh_is_loading === 0) {\n",
       "    console.log(\"Bokeh: BokehJS loaded, going straight to plotting\");\n",
       "    run_inline_js();\n",
       "  } else {\n",
       "    load_libs(js_urls, function() {\n",
       "      console.log(\"Bokeh: BokehJS plotting callback run at\", now());\n",
       "      run_inline_js();\n",
       "    });\n",
       "  }\n",
       "}(this));"
      ]
     },
     "metadata": {},
     "output_type": "display_data"
    }
   ],
   "source": [
    "from bokeh.charts import Line\n",
    "from bokeh.plotting import figure, show\n",
    "from bokeh.models import Range1d\n",
    "from bokeh.io import output_notebook\n",
    "import bokeh as bokeh\n",
    "output_notebook()\n",
    " \n",
    "class LossTimeHistory(keras.callbacks.Callback):\n",
    "    def on_train_begin(self, logs={}):\n",
    "        self.losses = []\n",
    "        self.durations = []\n",
    "        self.val_loss = []\n",
    "    \n",
    "    def on_epoch_begin(self, epoch, logs={}):\n",
    "        import time\n",
    "        self.start_time = time.time()\n",
    "        \n",
    "    def on_epoch_end(self, epoch, logs={}):\n",
    "        self.losses.append(logs.get('loss'))\n",
    "        self.val_loss.append(logs.get('val_loss'))\n",
    "        import time\n",
    "        duration = time.time()-self.start_time\n",
    "        self.durations.append(duration)  "
   ]
  },
  {
   "cell_type": "code",
   "execution_count": 3,
   "metadata": {
    "collapsed": true
   },
   "outputs": [],
   "source": [
    "size_pantry = 500"
   ]
  },
  {
   "cell_type": "code",
   "execution_count": 4,
   "metadata": {
    "collapsed": false
   },
   "outputs": [
    {
     "name": "stdout",
     "output_type": "stream",
     "text": [
      "_________________________________________________________________\n",
      "Layer (type)                 Output Shape              Param #   \n",
      "=================================================================\n",
      "input_1 (InputLayer)         (None, 224, 224, 3)       0         \n",
      "_________________________________________________________________\n",
      "block1_conv1 (Conv2D)        (None, 224, 224, 64)      1792      \n",
      "_________________________________________________________________\n",
      "block1_conv2 (Conv2D)        (None, 224, 224, 64)      36928     \n",
      "_________________________________________________________________\n",
      "block1_pool (MaxPooling2D)   (None, 112, 112, 64)      0         \n",
      "_________________________________________________________________\n",
      "block2_conv1 (Conv2D)        (None, 112, 112, 128)     73856     \n",
      "_________________________________________________________________\n",
      "block2_conv2 (Conv2D)        (None, 112, 112, 128)     147584    \n",
      "_________________________________________________________________\n",
      "block2_pool (MaxPooling2D)   (None, 56, 56, 128)       0         \n",
      "_________________________________________________________________\n",
      "block3_conv1 (Conv2D)        (None, 56, 56, 256)       295168    \n",
      "_________________________________________________________________\n",
      "block3_conv2 (Conv2D)        (None, 56, 56, 256)       590080    \n",
      "_________________________________________________________________\n",
      "block3_conv3 (Conv2D)        (None, 56, 56, 256)       590080    \n",
      "_________________________________________________________________\n",
      "block3_pool (MaxPooling2D)   (None, 28, 28, 256)       0         \n",
      "_________________________________________________________________\n",
      "block4_conv1 (Conv2D)        (None, 28, 28, 512)       1180160   \n",
      "_________________________________________________________________\n",
      "block4_conv2 (Conv2D)        (None, 28, 28, 512)       2359808   \n",
      "_________________________________________________________________\n",
      "block4_conv3 (Conv2D)        (None, 28, 28, 512)       2359808   \n",
      "_________________________________________________________________\n",
      "block4_pool (MaxPooling2D)   (None, 14, 14, 512)       0         \n",
      "_________________________________________________________________\n",
      "block5_conv1 (Conv2D)        (None, 14, 14, 512)       2359808   \n",
      "_________________________________________________________________\n",
      "block5_conv2 (Conv2D)        (None, 14, 14, 512)       2359808   \n",
      "_________________________________________________________________\n",
      "block5_conv3 (Conv2D)        (None, 14, 14, 512)       2359808   \n",
      "_________________________________________________________________\n",
      "block5_pool (MaxPooling2D)   (None, 7, 7, 512)         0         \n",
      "_________________________________________________________________\n",
      "flatten_1 (Flatten)          (None, 25088)             0         \n",
      "_________________________________________________________________\n",
      "dense_1 (Dense)              (None, 500)               12544500  \n",
      "=================================================================\n",
      "Total params: 27,259,188\n",
      "Trainable params: 27,259,188\n",
      "Non-trainable params: 0\n",
      "_________________________________________________________________\n",
      "None\n"
     ]
    },
    {
     "name": "stderr",
     "output_type": "stream",
     "text": [
      "/home/colin/anaconda3/lib/python3.6/site-packages/ipykernel/__main__.py:21: UserWarning: Update your `Model` call to the Keras 2 API: `Model(inputs=Tensor(\"in..., outputs=Tensor(\"de...)`\n"
     ]
    }
   ],
   "source": [
    "# m = vgg16.VGG16(weights='imagenet')\n",
    "# m.layers.pop()\n",
    "# m.layers.append(Dense(size_pantry, activation='sigmoid'))\n",
    "# adam = keras.optimizers.Adam(lr=0.001, beta_1=0.9, beta_2=0.999, epsilon=1e-08, decay=0.0)\n",
    "# m.compile(loss='binary_crossentropy', optimizer = adam, metrics=['accuracy'])\n",
    "# m.summary()\n",
    "\n",
    "# get the pretrained model (minus FC layers)\n",
    "original_model = vgg16.VGG16(weights='imagenet', include_top=False, input_tensor = vgg16.Input(shape=(224,224,3)))\n",
    "\n",
    "# freeze conv layers\n",
    "#for layer in original_model.layers:\n",
    "#    layer.trainable = False\n",
    "    #pass\n",
    "\n",
    "# construct model\n",
    "deep_features = Flatten()(original_model.output)\n",
    "#fc1 = Dense(10, activation=\"relu\")(deep_features)\n",
    "ingredients_guessing = Dense(size_pantry, activation='sigmoid')(deep_features)#fc1)\n",
    "\n",
    "m = keras.models.Model(input=original_model.input, output=ingredients_guessing)\n",
    "\n",
    "print(m.summary())\n",
    "\n",
    "#optimizer = keras.optimizers.SGD(lr=0.0001, momentum=0.9, decay=0, nesterov=True)\n",
    "optimizer = keras.optimizers.Adadelta(lr=1.0, rho=0.95, epsilon=1e-08, decay=0.0)\n",
    "\n",
    "#optimizer = Adam()\n",
    "m.compile(optimizer, loss='binary_crossentropy')"
   ]
  },
  {
   "cell_type": "markdown",
   "metadata": {},
   "source": [
    "Creating the Pantry"
   ]
  },
  {
   "cell_type": "code",
   "execution_count": null,
   "metadata": {
    "collapsed": false
   },
   "outputs": [],
   "source": [
    "conn = sqlite3.connect(\"yummly.db\")\n",
    "recipes = conn.execute(\"SELECT ID, CleanIngredients FROM Recipe WHERE ImageAvailable=1 AND English=1;\").fetchall()\n",
    "conn.close()"
   ]
  },
  {
   "cell_type": "code",
   "execution_count": null,
   "metadata": {
    "collapsed": true
   },
   "outputs": [],
   "source": []
  },
  {
   "cell_type": "code",
   "execution_count": null,
   "metadata": {
    "collapsed": true
   },
   "outputs": [],
   "source": [
    "def prepIngredients(ingredients_string):\n",
    "    return [x.strip() for x in ingredients_string.split(\";\")]\n",
    "\n",
    "recipes = [tuple([x[0], prepIngredients(x[1])])for x in recipes]"
   ]
  },
  {
   "cell_type": "code",
   "execution_count": null,
   "metadata": {
    "collapsed": false
   },
   "outputs": [],
   "source": [
    "all_ingredients = np.array([item for sublist in recipes for item in sublist[1]])\n",
    "unique_ing = np.unique(all_ingredients, return_counts = True)\n",
    "\n",
    "argsort_results = np.argsort(unique_ing[1])\n",
    "\n",
    "sorted_ing = unique_ing[0][argsort_results]\n",
    "sorted_vals = unique_ing[1][argsort_results]\n",
    "sorted_ing = sorted_ing[::-1]\n",
    "\n",
    "id2food = sorted_ing[0:size_pantry]\n",
    "food2id = {food: idx[0] for idx, food in np.ndenumerate(id2food)}\n",
    "\n"
   ]
  },
  {
   "cell_type": "code",
   "execution_count": null,
   "metadata": {
    "collapsed": false
   },
   "outputs": [],
   "source": [
    "id2food[169]"
   ]
  },
  {
   "cell_type": "code",
   "execution_count": null,
   "metadata": {
    "collapsed": true
   },
   "outputs": [],
   "source": [
    "# free up some memory\n",
    "all_ingredients = None\n",
    "argsort_results = None\n",
    "sorted_vals = None"
   ]
  },
  {
   "cell_type": "code",
   "execution_count": null,
   "metadata": {
    "collapsed": false,
    "scrolled": true
   },
   "outputs": [],
   "source": [
    "ids = [] #[x[0] for x in recipes]\n",
    "recipe_ingredients = [x[1] for x in recipes]\n",
    "labels = [] #np.zeros([len(recipes), size_pantry])\n",
    "\n",
    "class_frequency = [0] * size_pantry\n",
    "\n",
    "\n",
    "# Then we build our training data. We're not going to include\n",
    "# recipes that have ingredients not in the pantry\n",
    "for i in range(0, len(recipes)):\n",
    "    num_misses = 0\n",
    "    current_recipe = [0] * size_pantry\n",
    "    \n",
    "    for j in range(0, len(recipe_ingredients[i])):\n",
    "        if food2id.get(recipe_ingredients[i][j]) != None:\n",
    "            food_id = food2id.get(recipe_ingredients[i][j])\n",
    "            \n",
    "            current_recipe[food_id] = 1\n",
    "            class_frequency[food_id] = class_frequency[food_id] + 1\n",
    "        else:\n",
    "            num_misses = num_misses + 1\n",
    "    \n",
    "    if num_misses == 0 and sum(current_recipe) > 0:\n",
    "        labels.append(current_recipe)\n",
    "        ids.append(recipes[i][0])\n",
    "            \n",
    "    #labels[i, [food2id.get(x) for x in recipe_ingredients[i]]] = 1"
   ]
  },
  {
   "cell_type": "code",
   "execution_count": null,
   "metadata": {
    "collapsed": true
   },
   "outputs": [],
   "source": [
    "recipe_ingredients = None\n",
    "recipes = None"
   ]
  },
  {
   "cell_type": "code",
   "execution_count": null,
   "metadata": {
    "collapsed": true
   },
   "outputs": [],
   "source": [
    "class_weights = [{index: len(ids) / x / 100} for index, x in enumerate(class_frequency)]\n"
   ]
  },
  {
   "cell_type": "code",
   "execution_count": null,
   "metadata": {
    "collapsed": false
   },
   "outputs": [],
   "source": [
    "class_weights2 = [{index: np.power(5000 / x, 2)} for index, x in enumerate(class_frequency)]"
   ]
  },
  {
   "cell_type": "code",
   "execution_count": null,
   "metadata": {
    "collapsed": false
   },
   "outputs": [],
   "source": [
    "len(labels[0])"
   ]
  },
  {
   "cell_type": "code",
   "execution_count": null,
   "metadata": {
    "collapsed": false
   },
   "outputs": [],
   "source": [
    "pickle.dump( [ids, labels, food2id, id2food, class_weights, class_weights2], open( \"ids_labels_nomissing_500.p\", \"wb\" ) )"
   ]
  },
  {
   "cell_type": "code",
   "execution_count": 5,
   "metadata": {
    "collapsed": false
   },
   "outputs": [],
   "source": [
    "[ids, labels, food2id, id2food, class_weights, class_weights2] = pickle.load( open( \"ids_labels_nomissing_500.p\", \"rb\" ) )"
   ]
  },
  {
   "cell_type": "code",
   "execution_count": 6,
   "metadata": {
    "collapsed": true
   },
   "outputs": [],
   "source": [
    "four_fifths = (len(labels) // 5) * 4\n",
    "\n",
    "train_ids = ids[0:four_fifths]\n",
    "train_labels = labels[0:four_fifths]\n",
    "\n",
    "test_ids = ids[four_fifths:]\n",
    "test_labels = labels[four_fifths:]"
   ]
  },
  {
   "cell_type": "code",
   "execution_count": 7,
   "metadata": {
    "collapsed": true
   },
   "outputs": [],
   "source": [
    "ids = None\n",
    "labels = None"
   ]
  },
  {
   "cell_type": "code",
   "execution_count": 8,
   "metadata": {
    "collapsed": false
   },
   "outputs": [
    {
     "data": {
      "text/plain": [
       "'3c89336a-cda7-44e7-b4f6-64eaf73c95b1'"
      ]
     },
     "execution_count": 8,
     "metadata": {},
     "output_type": "execute_result"
    }
   ],
   "source": [
    "train_ids[40]\n",
    "#train_labels[40]"
   ]
  },
  {
   "cell_type": "code",
   "execution_count": 9,
   "metadata": {
    "collapsed": false
   },
   "outputs": [],
   "source": [
    "m.load_weights('model_weights_w_cnn.hdf5')"
   ]
  },
  {
   "cell_type": "code",
   "execution_count": 10,
   "metadata": {
    "collapsed": true
   },
   "outputs": [],
   "source": [
    "filepath = \"model_weights_w_cnn.hdf5\"\n",
    "checkpoint = keras.callbacks.ModelCheckpoint(filepath, monitor='val_loss', \n",
    "                                             verbose=1, save_best_only=True, mode='min')\n",
    "\n",
    "early_stop = keras.callbacks.EarlyStopping(monitor='val_loss', min_delta=0,\n",
    "                          patience=150, verbose=1, mode='min')\n",
    "\n",
    "history = LossTimeHistory()"
   ]
  },
  {
   "cell_type": "code",
   "execution_count": 10,
   "metadata": {
    "collapsed": false
   },
   "outputs": [
    {
     "data": {
      "text/plain": [
       "1624"
      ]
     },
     "execution_count": 10,
     "metadata": {},
     "output_type": "execute_result"
    }
   ],
   "source": [
    "#samp_per_epoch\n",
    "len(test_ids) // 64"
   ]
  },
  {
   "cell_type": "code",
   "execution_count": null,
   "metadata": {
    "collapsed": false,
    "scrolled": false
   },
   "outputs": [
    {
     "name": "stdout",
     "output_type": "stream",
     "text": [
      "Epoch 1/22000\n",
      "Epoch 00000: val_loss did not improve\n",
      "550s - loss: 0.0436 - val_loss: 0.0595\n",
      "Epoch 2/22000\n",
      "Epoch 00001: val_loss did not improve\n",
      "553s - loss: 0.0435 - val_loss: 0.0599\n",
      "Epoch 3/22000\n",
      "Epoch 00002: val_loss did not improve\n",
      "552s - loss: 0.0433 - val_loss: 0.0604\n",
      "Epoch 4/22000\n",
      "Epoch 00003: val_loss did not improve\n",
      "552s - loss: 0.0436 - val_loss: 0.0601\n",
      "Epoch 5/22000\n",
      "Epoch 00004: val_loss did not improve\n",
      "553s - loss: 0.0433 - val_loss: 0.0597\n",
      "Epoch 6/22000\n",
      "Epoch 00005: val_loss did not improve\n",
      "553s - loss: 0.0431 - val_loss: 0.0599\n",
      "Epoch 7/22000\n",
      "Epoch 00006: val_loss did not improve\n",
      "553s - loss: 0.0429 - val_loss: 0.0598\n",
      "Epoch 8/22000\n",
      "Epoch 00007: val_loss did not improve\n",
      "553s - loss: 0.0428 - val_loss: 0.0596\n",
      "Epoch 9/22000\n",
      "Epoch 00019: val_loss did not improve\n",
      "552s - loss: 0.0414 - val_loss: 0.0603\n",
      "Epoch 21/22000\n",
      "Epoch 00020: val_loss did not improve\n",
      "552s - loss: 0.0415 - val_loss: 0.0602\n",
      "Epoch 22/22000\n",
      "Epoch 00021: val_loss did not improve\n",
      "552s - loss: 0.0411 - val_loss: 0.0601\n",
      "Epoch 23/22000\n",
      "Epoch 00022: val_loss did not improve\n",
      "552s - loss: 0.0411 - val_loss: 0.0615\n",
      "Epoch 24/22000\n"
     ]
    }
   ],
   "source": [
    "import random\n",
    "\n",
    "def DataGenerator(imageIds, imageLabels, batch_size):\n",
    "    batch = np.zeros((batch_size, 224, 224, 3))\n",
    "    labels = np.zeros((batch_size, size_pantry))\n",
    "    while True:\n",
    "        batch_bad = False\n",
    "        \n",
    "        for i in range(0, batch_size):\n",
    "            index = random.randint(0, len(imageIds) - 1)\n",
    "            img_path = 'resized_thumbs/' + imageIds[index] + \".jpg\"\n",
    "            \n",
    "            try:   \n",
    "                #turns out a small number of our images are corrupted\n",
    "                img = image.load_img(img_path, target_size=(224, 224))\n",
    "            except:\n",
    "                #print(\"Error reading image: \" + imageIds[index])\n",
    "                batch_bad = True\n",
    "                \n",
    "            \n",
    "            img = image.img_to_array(img)\n",
    "            batch[i, :, :, :] = img\n",
    "            labels[i, :] = imageLabels[index]#, :]\n",
    "        batch = vgg16.preprocess_input(batch)\n",
    "        \n",
    "        if batch_bad is False:\n",
    "            #print(batch[10, :, :, 0])\n",
    "            yield batch, labels\n",
    "        \n",
    "m.fit_generator(DataGenerator(train_ids, train_labels, 64), steps_per_epoch = 500, epochs = 22000,\n",
    "                         verbose = 2,\n",
    "                         validation_data = DataGenerator(test_ids, test_labels, 64),\n",
    "                         validation_steps = 500,\n",
    "                         workers = 16,\n",
    "                         max_q_size = 8,\n",
    "                         pickle_safe = True,\n",
    "                         class_weight = class_weights2,\n",
    "                         callbacks = [history, checkpoint, early_stop])\n",
    "\n",
    "show(bokeh.models.layouts.Row(\n",
    "    Line(data=history.losses, title='Loss Per Epoch', plot_width=390, plot_height=390, legend=None, ylabel='BCE', xlabel='Epoch'),\n",
    "    Line(data=history.val_loss, title='Validation Loss Per Epoch', plot_width=390, plot_height=390, legend=None, ylabel='BCE', xlabel='Epoch'),\n",
    "    Line(data=history.durations, title='Seconds Per Epoch', plot_width=390, plot_height=390, legend=None, ylabel='Seconds', xlabel='Epoch')))"
   ]
  },
  {
   "cell_type": "code",
   "execution_count": 13,
   "metadata": {
    "collapsed": false,
    "scrolled": false
   },
   "outputs": [
    {
     "data": {
      "text/html": [
       "\n",
       "\n",
       "    <div class=\"bk-root\">\n",
       "        <div class=\"bk-plotdiv\" id=\"cdac9b89-7bf4-4a57-9d03-e3559993c209\"></div>\n",
       "    </div>\n",
       "<script type=\"text/javascript\">\n",
       "  \n",
       "  (function(global) {\n",
       "    function now() {\n",
       "      return new Date();\n",
       "    }\n",
       "  \n",
       "    var force = false;\n",
       "  \n",
       "    if (typeof (window._bokeh_onload_callbacks) === \"undefined\" || force === true) {\n",
       "      window._bokeh_onload_callbacks = [];\n",
       "      window._bokeh_is_loading = undefined;\n",
       "    }\n",
       "  \n",
       "  \n",
       "    \n",
       "    if (typeof (window._bokeh_timeout) === \"undefined\" || force === true) {\n",
       "      window._bokeh_timeout = Date.now() + 0;\n",
       "      window._bokeh_failed_load = false;\n",
       "    }\n",
       "  \n",
       "    var NB_LOAD_WARNING = {'data': {'text/html':\n",
       "       \"<div style='background-color: #fdd'>\\n\"+\n",
       "       \"<p>\\n\"+\n",
       "       \"BokehJS does not appear to have successfully loaded. If loading BokehJS from CDN, this \\n\"+\n",
       "       \"may be due to a slow or bad network connection. Possible fixes:\\n\"+\n",
       "       \"</p>\\n\"+\n",
       "       \"<ul>\\n\"+\n",
       "       \"<li>re-rerun `output_notebook()` to attempt to load from CDN again, or</li>\\n\"+\n",
       "       \"<li>use INLINE resources instead, as so:</li>\\n\"+\n",
       "       \"</ul>\\n\"+\n",
       "       \"<code>\\n\"+\n",
       "       \"from bokeh.resources import INLINE\\n\"+\n",
       "       \"output_notebook(resources=INLINE)\\n\"+\n",
       "       \"</code>\\n\"+\n",
       "       \"</div>\"}};\n",
       "  \n",
       "    function display_loaded() {\n",
       "      if (window.Bokeh !== undefined) {\n",
       "        document.getElementById(\"cdac9b89-7bf4-4a57-9d03-e3559993c209\").textContent = \"BokehJS successfully loaded.\";\n",
       "      } else if (Date.now() < window._bokeh_timeout) {\n",
       "        setTimeout(display_loaded, 100)\n",
       "      }\n",
       "    }\n",
       "  \n",
       "    function run_callbacks() {\n",
       "      window._bokeh_onload_callbacks.forEach(function(callback) { callback() });\n",
       "      delete window._bokeh_onload_callbacks\n",
       "      console.info(\"Bokeh: all callbacks have finished\");\n",
       "    }\n",
       "  \n",
       "    function load_libs(js_urls, callback) {\n",
       "      window._bokeh_onload_callbacks.push(callback);\n",
       "      if (window._bokeh_is_loading > 0) {\n",
       "        console.log(\"Bokeh: BokehJS is being loaded, scheduling callback at\", now());\n",
       "        return null;\n",
       "      }\n",
       "      if (js_urls == null || js_urls.length === 0) {\n",
       "        run_callbacks();\n",
       "        return null;\n",
       "      }\n",
       "      console.log(\"Bokeh: BokehJS not loaded, scheduling load and callback at\", now());\n",
       "      window._bokeh_is_loading = js_urls.length;\n",
       "      for (var i = 0; i < js_urls.length; i++) {\n",
       "        var url = js_urls[i];\n",
       "        var s = document.createElement('script');\n",
       "        s.src = url;\n",
       "        s.async = false;\n",
       "        s.onreadystatechange = s.onload = function() {\n",
       "          window._bokeh_is_loading--;\n",
       "          if (window._bokeh_is_loading === 0) {\n",
       "            console.log(\"Bokeh: all BokehJS libraries loaded\");\n",
       "            run_callbacks()\n",
       "          }\n",
       "        };\n",
       "        s.onerror = function() {\n",
       "          console.warn(\"failed to load library \" + url);\n",
       "        };\n",
       "        console.log(\"Bokeh: injecting script tag for BokehJS library: \", url);\n",
       "        document.getElementsByTagName(\"head\")[0].appendChild(s);\n",
       "      }\n",
       "    };var element = document.getElementById(\"cdac9b89-7bf4-4a57-9d03-e3559993c209\");\n",
       "    if (element == null) {\n",
       "      console.log(\"Bokeh: ERROR: autoload.js configured with elementid 'cdac9b89-7bf4-4a57-9d03-e3559993c209' but no matching script tag was found. \")\n",
       "      return false;\n",
       "    }\n",
       "  \n",
       "    var js_urls = [];\n",
       "  \n",
       "    var inline_js = [\n",
       "      function(Bokeh) {\n",
       "        (function() {\n",
       "          var fn = function() {\n",
       "            var docs_json = {\"dc737f34-212c-44c1-9e1c-2b23acdb40e1\":{\"roots\":{\"references\":[{\"attributes\":{\"plot\":{\"id\":\"96db979f-c8ac-46a7-9683-c5a143927b50\",\"subtype\":\"Chart\",\"type\":\"Plot\"}},\"id\":\"d42e6735-e4bc-40ae-b021-19c3063dca6c\",\"type\":\"WheelZoomTool\"},{\"attributes\":{\"bottom_units\":\"screen\",\"fill_alpha\":{\"value\":0.5},\"fill_color\":{\"value\":\"lightgrey\"},\"left_units\":\"screen\",\"level\":\"overlay\",\"line_alpha\":{\"value\":1.0},\"line_color\":{\"value\":\"black\"},\"line_dash\":[4,4],\"line_width\":{\"value\":2},\"plot\":null,\"render_mode\":\"css\",\"right_units\":\"screen\",\"top_units\":\"screen\"},\"id\":\"8bf88e5f-80f6-4e42-9448-3d914c9abbd4\",\"type\":\"BoxAnnotation\"},{\"attributes\":{\"below\":[{\"id\":\"f789f117-be27-44c2-b987-da6beb79a9f9\",\"type\":\"LinearAxis\"}],\"css_classes\":null,\"left\":[{\"id\":\"1ef96e4f-c9af-48d6-baeb-8cb90e6f2e3e\",\"type\":\"LinearAxis\"}],\"plot_height\":390,\"plot_width\":390,\"renderers\":[{\"id\":\"8bf88e5f-80f6-4e42-9448-3d914c9abbd4\",\"type\":\"BoxAnnotation\"},{\"id\":\"3dcb3484-5152-4e40-af11-5fcc7a8ea4fb\",\"type\":\"GlyphRenderer\"},{\"id\":\"f789f117-be27-44c2-b987-da6beb79a9f9\",\"type\":\"LinearAxis\"},{\"id\":\"1ef96e4f-c9af-48d6-baeb-8cb90e6f2e3e\",\"type\":\"LinearAxis\"},{\"id\":\"a61d694d-25dc-4f90-a80a-61647c89becf\",\"type\":\"Grid\"},{\"id\":\"0adaaa4d-32b9-4775-b273-91103300dadc\",\"type\":\"Grid\"}],\"title\":{\"id\":\"10dadb87-75d1-48b0-9d2b-ecdca828232c\",\"type\":\"Title\"},\"tool_events\":{\"id\":\"9cbc0780-e9ae-44f3-9908-e375f917f9cc\",\"type\":\"ToolEvents\"},\"toolbar\":{\"id\":\"77494151-b3b8-4228-8922-0200397e0d5f\",\"type\":\"Toolbar\"},\"x_mapper_type\":\"auto\",\"x_range\":{\"id\":\"684571c7-c199-4ccb-a5a3-9ad0e7cf8bac\",\"type\":\"Range1d\"},\"y_mapper_type\":\"auto\",\"y_range\":{\"id\":\"0cff0d49-51de-4dfc-b8aa-cbb1559b5b21\",\"type\":\"Range1d\"}},\"id\":\"96db979f-c8ac-46a7-9683-c5a143927b50\",\"subtype\":\"Chart\",\"type\":\"Plot\"},{\"attributes\":{\"plot\":{\"id\":\"96db979f-c8ac-46a7-9683-c5a143927b50\",\"subtype\":\"Chart\",\"type\":\"Plot\"}},\"id\":\"b1ce9367-68d1-4534-8672-0d05e25c42e5\",\"type\":\"PanTool\"},{\"attributes\":{\"plot\":{\"id\":\"96db979f-c8ac-46a7-9683-c5a143927b50\",\"subtype\":\"Chart\",\"type\":\"Plot\"}},\"id\":\"53f31916-7ad9-4800-967d-7a5270d485c2\",\"type\":\"SaveTool\"},{\"attributes\":{},\"id\":\"32b31205-4441-4234-9a62-55c1ecc450bb\",\"type\":\"BasicTickFormatter\"},{\"attributes\":{\"plot\":{\"id\":\"96db979f-c8ac-46a7-9683-c5a143927b50\",\"subtype\":\"Chart\",\"type\":\"Plot\"}},\"id\":\"6a44cae0-afe4-4c2e-a6dc-e1d02323d03f\",\"type\":\"ResetTool\"},{\"attributes\":{\"plot\":{\"id\":\"96db979f-c8ac-46a7-9683-c5a143927b50\",\"subtype\":\"Chart\",\"type\":\"Plot\"}},\"id\":\"f07f0298-29c3-443a-b6fe-837b1033b971\",\"type\":\"HelpTool\"},{\"attributes\":{\"axis_label\":\"BCE\",\"formatter\":{\"id\":\"32b31205-4441-4234-9a62-55c1ecc450bb\",\"type\":\"BasicTickFormatter\"},\"plot\":{\"id\":\"96db979f-c8ac-46a7-9683-c5a143927b50\",\"subtype\":\"Chart\",\"type\":\"Plot\"},\"ticker\":{\"id\":\"4e234995-bcf6-444f-a1f9-ee07f9a979b8\",\"type\":\"BasicTicker\"}},\"id\":\"1ef96e4f-c9af-48d6-baeb-8cb90e6f2e3e\",\"type\":\"LinearAxis\"},{\"attributes\":{},\"id\":\"54df514f-f43a-4ce1-8904-5d239b97da69\",\"type\":\"BasicTicker\"},{\"attributes\":{},\"id\":\"3f01cad4-db8c-48bf-abb7-2529a23a99c9\",\"type\":\"BasicTickFormatter\"},{\"attributes\":{},\"id\":\"aa1ad538-a1fa-4eaf-a82f-895bf09ba4d6\",\"type\":\"BasicTickFormatter\"},{\"attributes\":{\"data_source\":{\"id\":\"827c13dd-bc9c-4b39-8110-ab63c742b3b7\",\"type\":\"ColumnDataSource\"},\"glyph\":{\"id\":\"f073450d-9347-42b8-8a76-c615f40dd643\",\"type\":\"Line\"},\"hover_glyph\":null,\"nonselection_glyph\":null,\"selection_glyph\":null},\"id\":\"3dcb3484-5152-4e40-af11-5fcc7a8ea4fb\",\"type\":\"GlyphRenderer\"},{\"attributes\":{\"plot\":{\"id\":\"96db979f-c8ac-46a7-9683-c5a143927b50\",\"subtype\":\"Chart\",\"type\":\"Plot\"},\"ticker\":{\"id\":\"54df514f-f43a-4ce1-8904-5d239b97da69\",\"type\":\"BasicTicker\"}},\"id\":\"a61d694d-25dc-4f90-a80a-61647c89becf\",\"type\":\"Grid\"},{\"attributes\":{},\"id\":\"9cbc0780-e9ae-44f3-9908-e375f917f9cc\",\"type\":\"ToolEvents\"},{\"attributes\":{},\"id\":\"a4eb8e74-c402-4c54-ab83-287a63595abf\",\"type\":\"BasicTickFormatter\"},{\"attributes\":{\"line_color\":{\"value\":\"#f22c40\"},\"line_width\":{\"value\":2},\"x\":{\"field\":\"x_values\"},\"y\":{\"field\":\"y_values\"}},\"id\":\"f073450d-9347-42b8-8a76-c615f40dd643\",\"type\":\"Line\"},{\"attributes\":{\"axis_label\":\"Epoch\",\"formatter\":{\"id\":\"aa1ad538-a1fa-4eaf-a82f-895bf09ba4d6\",\"type\":\"BasicTickFormatter\"},\"plot\":{\"id\":\"96db979f-c8ac-46a7-9683-c5a143927b50\",\"subtype\":\"Chart\",\"type\":\"Plot\"},\"ticker\":{\"id\":\"54df514f-f43a-4ce1-8904-5d239b97da69\",\"type\":\"BasicTicker\"}},\"id\":\"f789f117-be27-44c2-b987-da6beb79a9f9\",\"type\":\"LinearAxis\"},{\"attributes\":{},\"id\":\"4e234995-bcf6-444f-a1f9-ee07f9a979b8\",\"type\":\"BasicTicker\"},{\"attributes\":{\"callback\":null,\"end\":0.06787605805173516,\"start\":0.05787773079946637},\"id\":\"0cff0d49-51de-4dfc-b8aa-cbb1559b5b21\",\"type\":\"Range1d\"},{\"attributes\":{\"plot\":null,\"text\":\"Validation Loss Per Epoch\"},\"id\":\"10dadb87-75d1-48b0-9d2b-ecdca828232c\",\"type\":\"Title\"},{\"attributes\":{\"callback\":null,\"column_names\":[\"x_values\",\"y_values\"],\"data\":{\"chart_index\":[{\"series\":\"a\"},{\"series\":\"a\"},{\"series\":\"a\"},{\"series\":\"a\"},{\"series\":\"a\"},{\"series\":\"a\"},{\"series\":\"a\"},{\"series\":\"a\"},{\"series\":\"a\"},{\"series\":\"a\"},{\"series\":\"a\"},{\"series\":\"a\"},{\"series\":\"a\"},{\"series\":\"a\"},{\"series\":\"a\"},{\"series\":\"a\"},{\"series\":\"a\"},{\"series\":\"a\"},{\"series\":\"a\"},{\"series\":\"a\"},{\"series\":\"a\"},{\"series\":\"a\"},{\"series\":\"a\"},{\"series\":\"a\"},{\"series\":\"a\"},{\"series\":\"a\"},{\"series\":\"a\"},{\"series\":\"a\"},{\"series\":\"a\"},{\"series\":\"a\"},{\"series\":\"a\"},{\"series\":\"a\"},{\"series\":\"a\"},{\"series\":\"a\"},{\"series\":\"a\"},{\"series\":\"a\"},{\"series\":\"a\"},{\"series\":\"a\"},{\"series\":\"a\"},{\"series\":\"a\"},{\"series\":\"a\"},{\"series\":\"a\"},{\"series\":\"a\"},{\"series\":\"a\"},{\"series\":\"a\"},{\"series\":\"a\"},{\"series\":\"a\"},{\"series\":\"a\"},{\"series\":\"a\"},{\"series\":\"a\"},{\"series\":\"a\"},{\"series\":\"a\"},{\"series\":\"a\"},{\"series\":\"a\"},{\"series\":\"a\"},{\"series\":\"a\"},{\"series\":\"a\"},{\"series\":\"a\"},{\"series\":\"a\"},{\"series\":\"a\"},{\"series\":\"a\"}],\"series\":[\"a\",\"a\",\"a\",\"a\",\"a\",\"a\",\"a\",\"a\",\"a\",\"a\",\"a\",\"a\",\"a\",\"a\",\"a\",\"a\",\"a\",\"a\",\"a\",\"a\",\"a\",\"a\",\"a\",\"a\",\"a\",\"a\",\"a\",\"a\",\"a\",\"a\",\"a\",\"a\",\"a\",\"a\",\"a\",\"a\",\"a\",\"a\",\"a\",\"a\",\"a\",\"a\",\"a\",\"a\",\"a\",\"a\",\"a\",\"a\",\"a\",\"a\",\"a\",\"a\",\"a\",\"a\",\"a\",\"a\",\"a\",\"a\",\"a\",\"a\",\"a\"],\"x_values\":[0,1,2,3,4,5,6,7,8,9,10,11,12,13,14,15,16,17,18,19,20,21,22,23,24,25,26,27,28,29,30,31,32,33,34,35,36,37,38,39,40,41,42,43,44,45,46,47,48,49,50,51,52,53,54,55,56,57,58,59,60],\"y_values\":{\"__ndarray__\":\"zczMnLgpsT++nxr/mdSwP6AaL6UfkbA/WDm0xD5/sD8bL90cSWSwP1YOLRKcBbA/i2zna2cvsD9I4XrMdw+wPwAAAFCf168/wcqh5bLArz+YbhJLIOOvP3E9ClcWmK8/vp8an/bRrz+uR+GK15evP1yPwvUhJK8/H4XraVkOrz9U46V7zUmvP2Q738//Fa8/vHSTIAgjrz8GgZXDzP+uP+xRuIYw6q4/qvHS7XLcrj8xCKzEoqSuPyGwcsAe9K4/PzVeAq3Rrj/TTWKoRLCuP+58Pw2/m64/fT81lnZ8rj/sUbgeM3OuP4lBYGUIha4/CKwcQnvkrj8MAisvwYeuP9v5frIgsK4/HVpkm0NGrj/Xo3DdXb6uPzVeuoFE5a4/8KfGS8Curj+0yHbuZciuP0a284XJiK4/9P3UsO0srj+F61HAF3quP166ScRoUq4/pHA9YnUmrj+sHFpEJUyuP8/3U7tbD64/46WbhJq5rj8UrkexkEGuPz0K10N6rq4/N4lBaFKTrj9vEoMgWcKuPzvfT03wiK4/ZmZmZgeCrj8/NV5Sn3+uP5zEIAjfia4/4XoUxpa3rj/hehS2e0WuPyUGgWWuSa4/7FG4xn9Irj/0/dSYaM6uP8/3U8vurK4/arx0CxiTrj8=\",\"dtype\":\"float64\",\"shape\":[61]}}},\"id\":\"827c13dd-bc9c-4b39-8110-ab63c742b3b7\",\"type\":\"ColumnDataSource\"},{\"attributes\":{\"active_drag\":\"auto\",\"active_scroll\":\"auto\",\"active_tap\":\"auto\",\"tools\":[{\"id\":\"b1ce9367-68d1-4534-8672-0d05e25c42e5\",\"type\":\"PanTool\"},{\"id\":\"d42e6735-e4bc-40ae-b021-19c3063dca6c\",\"type\":\"WheelZoomTool\"},{\"id\":\"b1edcbfe-be16-459f-825f-4d63ca2d662d\",\"type\":\"BoxZoomTool\"},{\"id\":\"53f31916-7ad9-4800-967d-7a5270d485c2\",\"type\":\"SaveTool\"},{\"id\":\"6a44cae0-afe4-4c2e-a6dc-e1d02323d03f\",\"type\":\"ResetTool\"},{\"id\":\"f07f0298-29c3-443a-b6fe-837b1033b971\",\"type\":\"HelpTool\"}]},\"id\":\"77494151-b3b8-4228-8922-0200397e0d5f\",\"type\":\"Toolbar\"},{\"attributes\":{\"callback\":null,\"column_names\":[\"x_values\",\"y_values\"],\"data\":{\"chart_index\":[{\"series\":\"a\"},{\"series\":\"a\"},{\"series\":\"a\"},{\"series\":\"a\"},{\"series\":\"a\"},{\"series\":\"a\"},{\"series\":\"a\"},{\"series\":\"a\"},{\"series\":\"a\"},{\"series\":\"a\"},{\"series\":\"a\"},{\"series\":\"a\"},{\"series\":\"a\"},{\"series\":\"a\"},{\"series\":\"a\"},{\"series\":\"a\"},{\"series\":\"a\"},{\"series\":\"a\"},{\"series\":\"a\"},{\"series\":\"a\"},{\"series\":\"a\"},{\"series\":\"a\"},{\"series\":\"a\"},{\"series\":\"a\"},{\"series\":\"a\"},{\"series\":\"a\"},{\"series\":\"a\"},{\"series\":\"a\"},{\"series\":\"a\"},{\"series\":\"a\"},{\"series\":\"a\"},{\"series\":\"a\"},{\"series\":\"a\"},{\"series\":\"a\"},{\"series\":\"a\"},{\"series\":\"a\"},{\"series\":\"a\"},{\"series\":\"a\"},{\"series\":\"a\"},{\"series\":\"a\"},{\"series\":\"a\"},{\"series\":\"a\"},{\"series\":\"a\"},{\"series\":\"a\"},{\"series\":\"a\"},{\"series\":\"a\"},{\"series\":\"a\"},{\"series\":\"a\"},{\"series\":\"a\"},{\"series\":\"a\"},{\"series\":\"a\"},{\"series\":\"a\"},{\"series\":\"a\"},{\"series\":\"a\"},{\"series\":\"a\"},{\"series\":\"a\"},{\"series\":\"a\"},{\"series\":\"a\"},{\"series\":\"a\"},{\"series\":\"a\"},{\"series\":\"a\"}],\"series\":[\"a\",\"a\",\"a\",\"a\",\"a\",\"a\",\"a\",\"a\",\"a\",\"a\",\"a\",\"a\",\"a\",\"a\",\"a\",\"a\",\"a\",\"a\",\"a\",\"a\",\"a\",\"a\",\"a\",\"a\",\"a\",\"a\",\"a\",\"a\",\"a\",\"a\",\"a\",\"a\",\"a\",\"a\",\"a\",\"a\",\"a\",\"a\",\"a\",\"a\",\"a\",\"a\",\"a\",\"a\",\"a\",\"a\",\"a\",\"a\",\"a\",\"a\",\"a\",\"a\",\"a\",\"a\",\"a\",\"a\",\"a\",\"a\",\"a\",\"a\",\"a\"],\"x_values\":[0,1,2,3,4,5,6,7,8,9,10,11,12,13,14,15,16,17,18,19,20,21,22,23,24,25,26,27,28,29,30,31,32,33,34,35,36,37,38,39,40,41,42,43,44,45,46,47,48,49,50,51,52,53,54,55,56,57,58,59,60],\"y_values\":{\"__ndarray__\":\"Gy/dxPWEsD8nMQj8vUutP+xRuCannqw/hetRqBv7qz/FILDqgdarP9Ei29FkXKs/lkOLXPkaqz+q8dKFtc6qP+xRuJYOsqo/arx0+6RLqj/jpZvMS02qP6jGSy9OHqo/exSub68Tqj+e76eGm+qpP/YoXJ+JxKk/mG4SGxajqT/jpZtMI3+pP+kmMUD6UKk/YOXQit5YqT9aZDsfIDepPxfZzsfbA6k/KVyPuvDvqD8K16N42+OoP4XrURAy2ag/FK5HiSm0qD+cxCDI+ZuoP23n+4lLjag/c2iRLSeFqD9WDi3CmXeoP0a28y3FY6g/g8DKCYwqqD8OLbLFukGoPwIrh97jMag/46WbfCo5qD+HFtkWw/inP5huEsPA8qc/wcqh/QLhpz/wp8ZLHL+nP2q8dMtgtac/nu+n7r/Ppz8AAADwQZanP23n+7mCmqc/w/Uo9LiPpz+gGi81E3KnP/CnxivQXqc/aJHtFLJOpz/FILCa1UqnP1g5tEh0P6c/z/dT2+Uipz9iEFgRExenP3E9Cp/oJac/qMZLb9EIpz+wcmhhz9SmPxBYOTT346Y/rBxaJIrcpj+sHFrs7rWmP9NNYkDmsqY/F9nOd5ukpj/b+X5ijYimP9Ei22G/cqY/arx0c4d/pj8=\",\"dtype\":\"float64\",\"shape\":[61]}}},\"id\":\"421c8d75-2916-4a96-aeaa-39a121a21de5\",\"type\":\"ColumnDataSource\"},{\"attributes\":{},\"id\":\"535b26f0-4acd-43e1-bf41-6d8f7f7a685a\",\"type\":\"BasicTickFormatter\"},{\"attributes\":{\"callback\":null,\"end\":66.0,\"start\":-6.0},\"id\":\"684571c7-c199-4ccb-a5a3-9ad0e7cf8bac\",\"type\":\"Range1d\"},{\"attributes\":{\"overlay\":{\"id\":\"8bf88e5f-80f6-4e42-9448-3d914c9abbd4\",\"type\":\"BoxAnnotation\"},\"plot\":{\"id\":\"96db979f-c8ac-46a7-9683-c5a143927b50\",\"subtype\":\"Chart\",\"type\":\"Plot\"}},\"id\":\"b1edcbfe-be16-459f-825f-4d63ca2d662d\",\"type\":\"BoxZoomTool\"},{\"attributes\":{},\"id\":\"c0750ad4-b423-48f7-a48e-4e7d0f7c6c35\",\"type\":\"BasicTicker\"},{\"attributes\":{\"line_color\":{\"value\":\"#f22c40\"},\"line_width\":{\"value\":2},\"x\":{\"field\":\"x_values\"},\"y\":{\"field\":\"y_values\"}},\"id\":\"2b241566-2e3a-4da5-888a-c0f170fded0b\",\"type\":\"Line\"},{\"attributes\":{\"axis_label\":\"Seconds\",\"formatter\":{\"id\":\"3f01cad4-db8c-48bf-abb7-2529a23a99c9\",\"type\":\"BasicTickFormatter\"},\"plot\":{\"id\":\"5d744fd5-da00-41e5-b04b-0777da71ec27\",\"subtype\":\"Chart\",\"type\":\"Plot\"},\"ticker\":{\"id\":\"dedd2cca-8083-4a75-bbd9-cf8d09ddc880\",\"type\":\"BasicTicker\"}},\"id\":\"48ecdf7d-22b0-4bab-8fdd-a9cf92912091\",\"type\":\"LinearAxis\"},{\"attributes\":{\"callback\":null,\"end\":66.0,\"start\":-6.0},\"id\":\"4c6340ca-45a4-4c90-b75e-973f2811ded4\",\"type\":\"Range1d\"},{\"attributes\":{\"children\":[{\"id\":\"bacbbe42-17a9-489d-8b6b-1afc27ecdece\",\"subtype\":\"Chart\",\"type\":\"Plot\"},{\"id\":\"96db979f-c8ac-46a7-9683-c5a143927b50\",\"subtype\":\"Chart\",\"type\":\"Plot\"},{\"id\":\"5d744fd5-da00-41e5-b04b-0777da71ec27\",\"subtype\":\"Chart\",\"type\":\"Plot\"}]},\"id\":\"14349445-264e-4c62-a520-6b5b74d40512\",\"type\":\"Row\"},{\"attributes\":{\"callback\":null,\"column_names\":[\"x_values\",\"y_values\"],\"data\":{\"chart_index\":[{\"series\":\"a\"},{\"series\":\"a\"},{\"series\":\"a\"},{\"series\":\"a\"},{\"series\":\"a\"},{\"series\":\"a\"},{\"series\":\"a\"},{\"series\":\"a\"},{\"series\":\"a\"},{\"series\":\"a\"},{\"series\":\"a\"},{\"series\":\"a\"},{\"series\":\"a\"},{\"series\":\"a\"},{\"series\":\"a\"},{\"series\":\"a\"},{\"series\":\"a\"},{\"series\":\"a\"},{\"series\":\"a\"},{\"series\":\"a\"},{\"series\":\"a\"},{\"series\":\"a\"},{\"series\":\"a\"},{\"series\":\"a\"},{\"series\":\"a\"},{\"series\":\"a\"},{\"series\":\"a\"},{\"series\":\"a\"},{\"series\":\"a\"},{\"series\":\"a\"},{\"series\":\"a\"},{\"series\":\"a\"},{\"series\":\"a\"},{\"series\":\"a\"},{\"series\":\"a\"},{\"series\":\"a\"},{\"series\":\"a\"},{\"series\":\"a\"},{\"series\":\"a\"},{\"series\":\"a\"},{\"series\":\"a\"},{\"series\":\"a\"},{\"series\":\"a\"},{\"series\":\"a\"},{\"series\":\"a\"},{\"series\":\"a\"},{\"series\":\"a\"},{\"series\":\"a\"},{\"series\":\"a\"},{\"series\":\"a\"},{\"series\":\"a\"},{\"series\":\"a\"},{\"series\":\"a\"},{\"series\":\"a\"},{\"series\":\"a\"},{\"series\":\"a\"},{\"series\":\"a\"},{\"series\":\"a\"},{\"series\":\"a\"},{\"series\":\"a\"},{\"series\":\"a\"}],\"series\":[\"a\",\"a\",\"a\",\"a\",\"a\",\"a\",\"a\",\"a\",\"a\",\"a\",\"a\",\"a\",\"a\",\"a\",\"a\",\"a\",\"a\",\"a\",\"a\",\"a\",\"a\",\"a\",\"a\",\"a\",\"a\",\"a\",\"a\",\"a\",\"a\",\"a\",\"a\",\"a\",\"a\",\"a\",\"a\",\"a\",\"a\",\"a\",\"a\",\"a\",\"a\",\"a\",\"a\",\"a\",\"a\",\"a\",\"a\",\"a\",\"a\",\"a\",\"a\",\"a\",\"a\",\"a\",\"a\",\"a\",\"a\",\"a\",\"a\",\"a\",\"a\"],\"x_values\":[0,1,2,3,4,5,6,7,8,9,10,11,12,13,14,15,16,17,18,19,20,21,22,23,24,25,26,27,28,29,30,31,32,33,34,35,36,37,38,39,40,41,42,43,44,45,46,47,48,49,50,51,52,53,54,55,56,57,58,59,60],\"y_values\":{\"__ndarray__\":\"AACAoATBgUAAAOCp53KBQAAAwGGYeYFAAACgBe13gUAAAODQt3WBQAAAoKZ7d4FAAACgidSlgUAAAKBuzaiBQAAAQMxMsoFAAABg6mt+gUAAAABXL3iBQAAA4HVge4FAAABggAV1gUAAACC2HnyBQAAAYMqKfYFAAADg+GpxgUAAAKD6FnaBQAAAQFoKdYFAAAAAow5ygUAAAEBfpnaBQAAAYM7Xd4FAAAAAn6R3gUAAAACs0XaBQAAAIJGgdoFAAADg7WR2gUAAAIAps3mBQAAAgMUQd4FAAAAAqh18gUAAAOAbvHWBQAAAoDQPd4FAAACAlrN1gUAAACD/N32BQAAAAO/ne4FAAADAceF5gUAAACBVtH+BQAAAgK0Vf4FAAAAA+aCCgUAAAGCXRYKBQAAAIDDeeoFAAACA6ox7gUAAAMAZXHWBQAAAADY6dYFAAAAAEKpvgUAAAAB/jHOBQAAAYH/CdYFAAACA6SZygUAAAIDEtnaBQAAAQK3Md4FAAACA82R6gUAAAKCW3neBQAAAwM1hcoFAAADgZxl0gUAAACArUXeBQAAAYBk7eYFAAACA/I53gUAAAADEn3SBQAAA4MRbeYFAAABA3895gUAAAEC4jXOBQAAAgC0JeIFAAABAi110gUA=\",\"dtype\":\"float64\",\"shape\":[61]}}},\"id\":\"c202a18f-5243-414d-bedc-63ca495fefb9\",\"type\":\"ColumnDataSource\"},{\"attributes\":{\"active_drag\":\"auto\",\"active_scroll\":\"auto\",\"active_tap\":\"auto\",\"tools\":[{\"id\":\"9e1c1a82-b092-4953-8b45-8dd9528c570e\",\"type\":\"PanTool\"},{\"id\":\"74e7bc48-cac8-4eb1-8e71-723717e4b67c\",\"type\":\"WheelZoomTool\"},{\"id\":\"1b2251d4-8226-4254-8218-953dd7e71c72\",\"type\":\"BoxZoomTool\"},{\"id\":\"ee26f32b-27ad-4dd5-ab32-4869961acf50\",\"type\":\"SaveTool\"},{\"id\":\"d6aa815d-4f00-4d48-a4af-5106e613a29f\",\"type\":\"ResetTool\"},{\"id\":\"f957b3e0-e3e1-4dd3-97bd-b892e6e8ce66\",\"type\":\"HelpTool\"}]},\"id\":\"972a1ea8-b2b5-4bd6-96eb-a09c31af1b00\",\"type\":\"Toolbar\"},{\"attributes\":{\"data_source\":{\"id\":\"c202a18f-5243-414d-bedc-63ca495fefb9\",\"type\":\"ColumnDataSource\"},\"glyph\":{\"id\":\"2b241566-2e3a-4da5-888a-c0f170fded0b\",\"type\":\"Line\"},\"hover_glyph\":null,\"nonselection_glyph\":null,\"selection_glyph\":null},\"id\":\"eb9919f7-a23c-459f-b83e-2e26b406bb3a\",\"type\":\"GlyphRenderer\"},{\"attributes\":{\"below\":[{\"id\":\"3bce81ef-2729-4642-99f6-fd9a1f94f0f9\",\"type\":\"LinearAxis\"}],\"css_classes\":null,\"left\":[{\"id\":\"fcfec976-5a5b-4f4c-8b54-9e3c0cc7c795\",\"type\":\"LinearAxis\"}],\"plot_height\":390,\"plot_width\":390,\"renderers\":[{\"id\":\"e18c4dc8-3f80-4069-a4e7-3fa11f7a02c3\",\"type\":\"BoxAnnotation\"},{\"id\":\"731cd1d8-1a0c-4e16-84ca-3ea28c8abef2\",\"type\":\"GlyphRenderer\"},{\"id\":\"3bce81ef-2729-4642-99f6-fd9a1f94f0f9\",\"type\":\"LinearAxis\"},{\"id\":\"fcfec976-5a5b-4f4c-8b54-9e3c0cc7c795\",\"type\":\"LinearAxis\"},{\"id\":\"98db7af8-e957-4b94-b833-2154035a978d\",\"type\":\"Grid\"},{\"id\":\"ae56882b-4ecb-4db7-a4f2-4c481e80a4ac\",\"type\":\"Grid\"}],\"title\":{\"id\":\"7ce267e5-b653-47e4-98d0-482e2b0ee0d0\",\"type\":\"Title\"},\"tool_events\":{\"id\":\"37be7996-5071-4092-a871-afb5dbe22ca8\",\"type\":\"ToolEvents\"},\"toolbar\":{\"id\":\"972a1ea8-b2b5-4bd6-96eb-a09c31af1b00\",\"type\":\"Toolbar\"},\"x_mapper_type\":\"auto\",\"x_range\":{\"id\":\"4c6340ca-45a4-4c90-b75e-973f2811ded4\",\"type\":\"Range1d\"},\"y_mapper_type\":\"auto\",\"y_range\":{\"id\":\"8753ed41-63f9-4223-b5e7-315f40d2a7ea\",\"type\":\"Range1d\"}},\"id\":\"bacbbe42-17a9-489d-8b6b-1afc27ecdece\",\"subtype\":\"Chart\",\"type\":\"Plot\"},{\"attributes\":{},\"id\":\"3de64010-9cc2-413b-b4ac-b5eea508d723\",\"type\":\"BasicTickFormatter\"},{\"attributes\":{\"bottom_units\":\"screen\",\"fill_alpha\":{\"value\":0.5},\"fill_color\":{\"value\":\"lightgrey\"},\"left_units\":\"screen\",\"level\":\"overlay\",\"line_alpha\":{\"value\":1.0},\"line_color\":{\"value\":\"black\"},\"line_dash\":[4,4],\"line_width\":{\"value\":2},\"plot\":null,\"render_mode\":\"css\",\"right_units\":\"screen\",\"top_units\":\"screen\"},\"id\":\"e18c4dc8-3f80-4069-a4e7-3fa11f7a02c3\",\"type\":\"BoxAnnotation\"},{\"attributes\":{\"dimension\":1,\"plot\":{\"id\":\"96db979f-c8ac-46a7-9683-c5a143927b50\",\"subtype\":\"Chart\",\"type\":\"Plot\"},\"ticker\":{\"id\":\"4e234995-bcf6-444f-a1f9-ee07f9a979b8\",\"type\":\"BasicTicker\"}},\"id\":\"0adaaa4d-32b9-4775-b273-91103300dadc\",\"type\":\"Grid\"},{\"attributes\":{\"plot\":{\"id\":\"bacbbe42-17a9-489d-8b6b-1afc27ecdece\",\"subtype\":\"Chart\",\"type\":\"Plot\"}},\"id\":\"9e1c1a82-b092-4953-8b45-8dd9528c570e\",\"type\":\"PanTool\"},{\"attributes\":{\"plot\":null,\"text\":\"Loss Per Epoch\"},\"id\":\"7ce267e5-b653-47e4-98d0-482e2b0ee0d0\",\"type\":\"Title\"},{\"attributes\":{\"callback\":null,\"end\":66.0,\"start\":-6.0},\"id\":\"bef3fe83-69d9-4cfe-b59a-b66525ed4abc\",\"type\":\"Range1d\"},{\"attributes\":{\"plot\":{\"id\":\"bacbbe42-17a9-489d-8b6b-1afc27ecdece\",\"subtype\":\"Chart\",\"type\":\"Plot\"}},\"id\":\"d6aa815d-4f00-4d48-a4af-5106e613a29f\",\"type\":\"ResetTool\"},{\"attributes\":{\"plot\":{\"id\":\"5d744fd5-da00-41e5-b04b-0777da71ec27\",\"subtype\":\"Chart\",\"type\":\"Plot\"}},\"id\":\"41b28648-3dfc-49c2-8ff9-e4c61ed4456c\",\"type\":\"PanTool\"},{\"attributes\":{\"overlay\":{\"id\":\"e18c4dc8-3f80-4069-a4e7-3fa11f7a02c3\",\"type\":\"BoxAnnotation\"},\"plot\":{\"id\":\"bacbbe42-17a9-489d-8b6b-1afc27ecdece\",\"subtype\":\"Chart\",\"type\":\"Plot\"}},\"id\":\"1b2251d4-8226-4254-8218-953dd7e71c72\",\"type\":\"BoxZoomTool\"},{\"attributes\":{\"plot\":{\"id\":\"bacbbe42-17a9-489d-8b6b-1afc27ecdece\",\"subtype\":\"Chart\",\"type\":\"Plot\"}},\"id\":\"ee26f32b-27ad-4dd5-ab32-4869961acf50\",\"type\":\"SaveTool\"},{\"attributes\":{},\"id\":\"37be7996-5071-4092-a871-afb5dbe22ca8\",\"type\":\"ToolEvents\"},{\"attributes\":{\"plot\":{\"id\":\"bacbbe42-17a9-489d-8b6b-1afc27ecdece\",\"subtype\":\"Chart\",\"type\":\"Plot\"},\"ticker\":{\"id\":\"1f1d540d-c083-4d0e-a38f-a52910c1b57a\",\"type\":\"BasicTicker\"}},\"id\":\"98db7af8-e957-4b94-b833-2154035a978d\",\"type\":\"Grid\"},{\"attributes\":{},\"id\":\"dedd2cca-8083-4a75-bbd9-cf8d09ddc880\",\"type\":\"BasicTicker\"},{\"attributes\":{\"plot\":{\"id\":\"5d744fd5-da00-41e5-b04b-0777da71ec27\",\"subtype\":\"Chart\",\"type\":\"Plot\"},\"ticker\":{\"id\":\"c0750ad4-b423-48f7-a48e-4e7d0f7c6c35\",\"type\":\"BasicTicker\"}},\"id\":\"ce8dcfb6-b6e6-4b33-a44e-4e28d69fc940\",\"type\":\"Grid\"},{\"attributes\":{\"plot\":{\"id\":\"bacbbe42-17a9-489d-8b6b-1afc27ecdece\",\"subtype\":\"Chart\",\"type\":\"Plot\"}},\"id\":\"74e7bc48-cac8-4eb1-8e71-723717e4b67c\",\"type\":\"WheelZoomTool\"},{\"attributes\":{\"axis_label\":\"Epoch\",\"formatter\":{\"id\":\"a4eb8e74-c402-4c54-ab83-287a63595abf\",\"type\":\"BasicTickFormatter\"},\"plot\":{\"id\":\"5d744fd5-da00-41e5-b04b-0777da71ec27\",\"subtype\":\"Chart\",\"type\":\"Plot\"},\"ticker\":{\"id\":\"c0750ad4-b423-48f7-a48e-4e7d0f7c6c35\",\"type\":\"BasicTicker\"}},\"id\":\"129df220-22c9-4d8c-bcba-143b563708a6\",\"type\":\"LinearAxis\"},{\"attributes\":{\"plot\":{\"id\":\"bacbbe42-17a9-489d-8b6b-1afc27ecdece\",\"subtype\":\"Chart\",\"type\":\"Plot\"}},\"id\":\"f957b3e0-e3e1-4dd3-97bd-b892e6e8ce66\",\"type\":\"HelpTool\"},{\"attributes\":{\"callback\":null,\"end\":0.06659726958200336,\"start\":0.04177574416026473},\"id\":\"8753ed41-63f9-4223-b5e7-315f40d2a7ea\",\"type\":\"Range1d\"},{\"attributes\":{},\"id\":\"9f7255a7-fb8d-4e81-9214-68a9ac4c1690\",\"type\":\"ToolEvents\"},{\"attributes\":{\"plot\":{\"id\":\"5d744fd5-da00-41e5-b04b-0777da71ec27\",\"subtype\":\"Chart\",\"type\":\"Plot\"}},\"id\":\"97e039c2-f0cf-43bb-9b70-204dbd9c9d57\",\"type\":\"WheelZoomTool\"},{\"attributes\":{\"axis_label\":\"BCE\",\"formatter\":{\"id\":\"535b26f0-4acd-43e1-bf41-6d8f7f7a685a\",\"type\":\"BasicTickFormatter\"},\"plot\":{\"id\":\"bacbbe42-17a9-489d-8b6b-1afc27ecdece\",\"subtype\":\"Chart\",\"type\":\"Plot\"},\"ticker\":{\"id\":\"74698127-2381-4aa3-b10e-6c153f1a17dc\",\"type\":\"BasicTicker\"}},\"id\":\"fcfec976-5a5b-4f4c-8b54-9e3c0cc7c795\",\"type\":\"LinearAxis\"},{\"attributes\":{\"below\":[{\"id\":\"129df220-22c9-4d8c-bcba-143b563708a6\",\"type\":\"LinearAxis\"}],\"css_classes\":null,\"left\":[{\"id\":\"48ecdf7d-22b0-4bab-8fdd-a9cf92912091\",\"type\":\"LinearAxis\"}],\"plot_height\":390,\"plot_width\":390,\"renderers\":[{\"id\":\"27e9204e-d49c-44a8-b27e-d97a4b987d32\",\"type\":\"BoxAnnotation\"},{\"id\":\"eb9919f7-a23c-459f-b83e-2e26b406bb3a\",\"type\":\"GlyphRenderer\"},{\"id\":\"129df220-22c9-4d8c-bcba-143b563708a6\",\"type\":\"LinearAxis\"},{\"id\":\"48ecdf7d-22b0-4bab-8fdd-a9cf92912091\",\"type\":\"LinearAxis\"},{\"id\":\"ce8dcfb6-b6e6-4b33-a44e-4e28d69fc940\",\"type\":\"Grid\"},{\"id\":\"2c0f3aea-5741-4541-9547-62d4f61976f6\",\"type\":\"Grid\"}],\"title\":{\"id\":\"dc3fc2cf-437c-4b6c-ad82-a71160488a92\",\"type\":\"Title\"},\"tool_events\":{\"id\":\"9f7255a7-fb8d-4e81-9214-68a9ac4c1690\",\"type\":\"ToolEvents\"},\"toolbar\":{\"id\":\"dc557d32-c3ba-495a-99c1-c2a94fb3714b\",\"type\":\"Toolbar\"},\"x_mapper_type\":\"auto\",\"x_range\":{\"id\":\"bef3fe83-69d9-4cfe-b59a-b66525ed4abc\",\"type\":\"Range1d\"},\"y_mapper_type\":\"auto\",\"y_range\":{\"id\":\"570ef2bd-dfa9-4ef7-a6ed-755cefff53e7\",\"type\":\"Range1d\"}},\"id\":\"5d744fd5-da00-41e5-b04b-0777da71ec27\",\"subtype\":\"Chart\",\"type\":\"Plot\"},{\"attributes\":{\"dimension\":1,\"plot\":{\"id\":\"bacbbe42-17a9-489d-8b6b-1afc27ecdece\",\"subtype\":\"Chart\",\"type\":\"Plot\"},\"ticker\":{\"id\":\"74698127-2381-4aa3-b10e-6c153f1a17dc\",\"type\":\"BasicTicker\"}},\"id\":\"ae56882b-4ecb-4db7-a4f2-4c481e80a4ac\",\"type\":\"Grid\"},{\"attributes\":{\"active_drag\":\"auto\",\"active_scroll\":\"auto\",\"active_tap\":\"auto\",\"tools\":[{\"id\":\"41b28648-3dfc-49c2-8ff9-e4c61ed4456c\",\"type\":\"PanTool\"},{\"id\":\"97e039c2-f0cf-43bb-9b70-204dbd9c9d57\",\"type\":\"WheelZoomTool\"},{\"id\":\"456803de-5687-45fd-9c16-39ff82897330\",\"type\":\"BoxZoomTool\"},{\"id\":\"e0bdd808-ae35-428b-8be4-61658f296a25\",\"type\":\"SaveTool\"},{\"id\":\"a472aadd-c89f-409c-9135-1ec05cf73415\",\"type\":\"ResetTool\"},{\"id\":\"b3c5241d-6550-4694-8b9e-7f8ca39ab428\",\"type\":\"HelpTool\"}]},\"id\":\"dc557d32-c3ba-495a-99c1-c2a94fb3714b\",\"type\":\"Toolbar\"},{\"attributes\":{\"dimension\":1,\"plot\":{\"id\":\"5d744fd5-da00-41e5-b04b-0777da71ec27\",\"subtype\":\"Chart\",\"type\":\"Plot\"},\"ticker\":{\"id\":\"dedd2cca-8083-4a75-bbd9-cf8d09ddc880\",\"type\":\"BasicTicker\"}},\"id\":\"2c0f3aea-5741-4541-9547-62d4f61976f6\",\"type\":\"Grid\"},{\"attributes\":{\"plot\":null,\"text\":\"Seconds Per Epoch\"},\"id\":\"dc3fc2cf-437c-4b6c-ad82-a71160488a92\",\"type\":\"Title\"},{\"attributes\":{\"line_color\":{\"value\":\"#f22c40\"},\"line_width\":{\"value\":2},\"x\":{\"field\":\"x_values\"},\"y\":{\"field\":\"y_values\"}},\"id\":\"5cfccabc-2873-4349-9d23-52b4d19d0a72\",\"type\":\"Line\"},{\"attributes\":{},\"id\":\"74698127-2381-4aa3-b10e-6c153f1a17dc\",\"type\":\"BasicTicker\"},{\"attributes\":{\"callback\":null,\"end\":569.1441813468933,\"start\":556.9411162376404},\"id\":\"570ef2bd-dfa9-4ef7-a6ed-755cefff53e7\",\"type\":\"Range1d\"},{\"attributes\":{\"axis_label\":\"Epoch\",\"formatter\":{\"id\":\"3de64010-9cc2-413b-b4ac-b5eea508d723\",\"type\":\"BasicTickFormatter\"},\"plot\":{\"id\":\"bacbbe42-17a9-489d-8b6b-1afc27ecdece\",\"subtype\":\"Chart\",\"type\":\"Plot\"},\"ticker\":{\"id\":\"1f1d540d-c083-4d0e-a38f-a52910c1b57a\",\"type\":\"BasicTicker\"}},\"id\":\"3bce81ef-2729-4642-99f6-fd9a1f94f0f9\",\"type\":\"LinearAxis\"},{\"attributes\":{},\"id\":\"1f1d540d-c083-4d0e-a38f-a52910c1b57a\",\"type\":\"BasicTicker\"},{\"attributes\":{\"plot\":{\"id\":\"5d744fd5-da00-41e5-b04b-0777da71ec27\",\"subtype\":\"Chart\",\"type\":\"Plot\"}},\"id\":\"a472aadd-c89f-409c-9135-1ec05cf73415\",\"type\":\"ResetTool\"},{\"attributes\":{\"plot\":{\"id\":\"5d744fd5-da00-41e5-b04b-0777da71ec27\",\"subtype\":\"Chart\",\"type\":\"Plot\"}},\"id\":\"b3c5241d-6550-4694-8b9e-7f8ca39ab428\",\"type\":\"HelpTool\"},{\"attributes\":{\"data_source\":{\"id\":\"421c8d75-2916-4a96-aeaa-39a121a21de5\",\"type\":\"ColumnDataSource\"},\"glyph\":{\"id\":\"5cfccabc-2873-4349-9d23-52b4d19d0a72\",\"type\":\"Line\"},\"hover_glyph\":null,\"nonselection_glyph\":null,\"selection_glyph\":null},\"id\":\"731cd1d8-1a0c-4e16-84ca-3ea28c8abef2\",\"type\":\"GlyphRenderer\"},{\"attributes\":{\"plot\":{\"id\":\"5d744fd5-da00-41e5-b04b-0777da71ec27\",\"subtype\":\"Chart\",\"type\":\"Plot\"}},\"id\":\"e0bdd808-ae35-428b-8be4-61658f296a25\",\"type\":\"SaveTool\"},{\"attributes\":{\"overlay\":{\"id\":\"27e9204e-d49c-44a8-b27e-d97a4b987d32\",\"type\":\"BoxAnnotation\"},\"plot\":{\"id\":\"5d744fd5-da00-41e5-b04b-0777da71ec27\",\"subtype\":\"Chart\",\"type\":\"Plot\"}},\"id\":\"456803de-5687-45fd-9c16-39ff82897330\",\"type\":\"BoxZoomTool\"},{\"attributes\":{\"bottom_units\":\"screen\",\"fill_alpha\":{\"value\":0.5},\"fill_color\":{\"value\":\"lightgrey\"},\"left_units\":\"screen\",\"level\":\"overlay\",\"line_alpha\":{\"value\":1.0},\"line_color\":{\"value\":\"black\"},\"line_dash\":[4,4],\"line_width\":{\"value\":2},\"plot\":null,\"render_mode\":\"css\",\"right_units\":\"screen\",\"top_units\":\"screen\"},\"id\":\"27e9204e-d49c-44a8-b27e-d97a4b987d32\",\"type\":\"BoxAnnotation\"}],\"root_ids\":[\"14349445-264e-4c62-a520-6b5b74d40512\"]},\"title\":\"Bokeh Application\",\"version\":\"0.12.4\"}};\n",
       "            var render_items = [{\"docid\":\"dc737f34-212c-44c1-9e1c-2b23acdb40e1\",\"elementid\":\"cdac9b89-7bf4-4a57-9d03-e3559993c209\",\"modelid\":\"14349445-264e-4c62-a520-6b5b74d40512\"}];\n",
       "            \n",
       "            Bokeh.embed.embed_items(docs_json, render_items);\n",
       "          };\n",
       "          if (document.readyState != \"loading\") fn();\n",
       "          else document.addEventListener(\"DOMContentLoaded\", fn);\n",
       "        })();\n",
       "      },\n",
       "      function(Bokeh) {\n",
       "      }\n",
       "    ];\n",
       "  \n",
       "    function run_inline_js() {\n",
       "      \n",
       "      if ((window.Bokeh !== undefined) || (force === true)) {\n",
       "        for (var i = 0; i < inline_js.length; i++) {\n",
       "          inline_js[i](window.Bokeh);\n",
       "        }if (force === true) {\n",
       "          display_loaded();\n",
       "        }} else if (Date.now() < window._bokeh_timeout) {\n",
       "        setTimeout(run_inline_js, 100);\n",
       "      } else if (!window._bokeh_failed_load) {\n",
       "        console.log(\"Bokeh: BokehJS failed to load within specified timeout.\");\n",
       "        window._bokeh_failed_load = true;\n",
       "      } else if (force !== true) {\n",
       "        var cell = $(document.getElementById(\"cdac9b89-7bf4-4a57-9d03-e3559993c209\")).parents('.cell').data().cell;\n",
       "        cell.output_area.append_execute_result(NB_LOAD_WARNING)\n",
       "      }\n",
       "  \n",
       "    }\n",
       "  \n",
       "    if (window._bokeh_is_loading === 0) {\n",
       "      console.log(\"Bokeh: BokehJS loaded, going straight to plotting\");\n",
       "      run_inline_js();\n",
       "    } else {\n",
       "      load_libs(js_urls, function() {\n",
       "        console.log(\"Bokeh: BokehJS plotting callback run at\", now());\n",
       "        run_inline_js();\n",
       "      });\n",
       "    }\n",
       "  }(this));\n",
       "</script>"
      ]
     },
     "metadata": {},
     "output_type": "display_data"
    }
   ],
   "source": [
    "show(bokeh.models.layouts.Row(\n",
    "    Line(data=history.losses, title='Loss Per Epoch', plot_width=390, plot_height=390, legend=None, ylabel='BCE', xlabel='Epoch'),\n",
    "    Line(data=history.val_loss, title='Validation Loss Per Epoch', plot_width=390, plot_height=390, legend=None, ylabel='BCE', xlabel='Epoch'),\n",
    "    Line(data=history.durations, title='Seconds Per Epoch', plot_width=390, plot_height=390, legend=None, ylabel='Seconds', xlabel='Epoch')))\n"
   ]
  },
  {
   "cell_type": "code",
   "execution_count": null,
   "metadata": {
    "collapsed": false
   },
   "outputs": [],
   "source": [
    "len(train_ids) // 64"
   ]
  },
  {
   "cell_type": "code",
   "execution_count": null,
   "metadata": {
    "collapsed": false
   },
   "outputs": [],
   "source": [
    "batch_size = 16\n",
    "\n",
    "\n",
    "generator_test_batch = np.zeros((batch_size, 224, 224, 3))\n",
    "generator_test_labels = np.zeros((batch_size, size_pantry))\n",
    "\n",
    "for i in range(0, batch_size):\n",
    "    index = random.randint(0, len(train_ids) - 1)\n",
    "    img_path = 'resized_thumbs/' + train_ids[index] + \".jpg\"\n",
    "\n",
    "    try:   \n",
    "        #turns out a small number of our images are corrupted\n",
    "        img = image.load_img(img_path, target_size=(224, 224))\n",
    "    except:\n",
    "        print(\"Error reading image: \" + imageIds[index])\n",
    "        batch_bad = True\n",
    "\n",
    "\n",
    "    img = image.img_to_array(img)\n",
    "    generator_test_batch[i, :, :, :] = img\n",
    "    generator_test_labels[i, :] = train_labels[index]#, :]\n",
    "generator_test_batch = vgg16.preprocess_input(generator_test_labels)"
   ]
  },
  {
   "cell_type": "code",
   "execution_count": 11,
   "metadata": {
    "collapsed": false
   },
   "outputs": [
    {
     "data": {
      "text/plain": [
       "415868"
      ]
     },
     "execution_count": 11,
     "metadata": {},
     "output_type": "execute_result"
    }
   ],
   "source": [
    "len(train_ids)"
   ]
  },
  {
   "cell_type": "code",
   "execution_count": 14,
   "metadata": {
    "collapsed": false,
    "scrolled": false
   },
   "outputs": [
    {
     "name": "stdout",
     "output_type": "stream",
     "text": [
      "12be7e25-fa57-4f13-989b-96d74be5836d\n",
      "('Curried Butternut Squash and Celeriac Soup with Leek and Crispy Bacon Topping',)\n",
      "Input image size: (1, 224, 224, 3)\n",
      "\n",
      "Ground truth\n",
      "salt\n",
      "pepper\n",
      "garlic\n",
      "olive oil\n",
      "celery\n",
      "bacon\n",
      "shallots\n",
      "coriander\n",
      "vegetable broth\n",
      "squash\n",
      "curry powder\n",
      "leeks\n",
      "\n",
      "Top 20 Predictions\n",
      "eggs: 0.7795\n",
      "salt: 0.774077\n",
      "pepper: 0.654409\n",
      "garlic: 0.595075\n",
      "parmesan cheese: 0.517157\n",
      "oregano: 0.47162\n",
      "breadcrumbs: 0.467328\n",
      "basil: 0.394289\n",
      "onion: 0.390484\n",
      "olive oil: 0.385792\n",
      "tomatoes: 0.378163\n",
      "mozzarella cheese: 0.340228\n",
      "parsley: 0.314833\n",
      "tomato sauce: 0.192719\n",
      "butter: 0.181819\n",
      "beef: 0.180061\n",
      "flour: 0.170341\n",
      "zucchini: 0.166127\n",
      "thyme: 0.165986\n",
      "bell pepper: 0.151595\n"
     ]
    },
    {
     "data": {
      "image/png": "[encoded data removed]",
      "text/plain": [
       "<matplotlib.figure.Figure at 0x7f59de3d0c18>"
      ]
     },
     "metadata": {},
     "output_type": "display_data"
    }
   ],
   "source": [
    "#img_path = 'download.jpg'  # This is an image I took in my kitchen.\n",
    "j = random.randint(0,len(test_ids))\n",
    "print(test_ids[j])\n",
    "#img_path = 'resized_thumbs/' + test_ids[j] + '.jpg'\n",
    "#img_path = 'download1.jpg'\n",
    "img_path = 'classic-meatloaf-horiz-a-1500.jpg'\n",
    "\n",
    "img = image.load_img(img_path, target_size=(224, 224))\n",
    "img_arr = image.img_to_array(img)\n",
    "x = np.expand_dims(img_arr, axis=0)  # The model only accepts batches so we add a dummy dimension.\n",
    "x = vgg16.preprocess_input(x)  # The preprocessing should be the same that was used during training.\n",
    "\n",
    "predictions = m.predict(x)\n",
    "\n",
    "#label_predictions = vgg16.decode_predictions(predictions, top = 10)\n",
    "\n",
    "conn = sqlite3.connect(\"yummly.db\")\n",
    "print(conn.execute(\"SELECT Title FROM Recipe WHERE ID='\" + str(test_ids[j]) + \"';\").fetchone())\n",
    "conn.close()\n",
    "\n",
    "print('Input image size:', x.shape)\n",
    "\n",
    "\n",
    "plt.imshow(np.asarray(img));\n",
    "\n",
    "print('\\nGround truth') #with Prediction')\n",
    "for i in range(0,size_pantry):\n",
    "    if test_labels[j][i] == 1:\n",
    "        print(id2food[i])# + \": \" + str(predictions[0][i]))\n",
    "\n",
    "argsort_results = np.argsort(-predictions)[0]\n",
    "\n",
    "\n",
    "# print('\\nAll Predictions over 10% certainty:')\n",
    "# for i in range(0,size_pantry):\n",
    "#     if predictions[0][i] > 0.1:\n",
    "#         print(id2food[i] + \": \" + str(predictions[0][i]))\n",
    "\n",
    "print(\"\\nTop 20 Predictions\")\n",
    "for i in range(0,20):\n",
    "    #print(argsort_results[i])\n",
    "    print(id2food[argsort_results[i]] + \": \" + str(predictions[0][argsort_results[i]]))"
   ]
  },
  {
   "cell_type": "code",
   "execution_count": null,
   "metadata": {
    "collapsed": false
   },
   "outputs": [],
   "source": [
    "len(predictions)"
   ]
  },
  {
   "cell_type": "markdown",
   "metadata": {},
   "source": [
    "## Predicting on the entirety of the validation set, to compute precision recall curve"
   ]
  },
  {
   "cell_type": "code",
   "execution_count": null,
   "metadata": {
    "collapsed": false
   },
   "outputs": [],
   "source": [
    "test_predictions = np.zeros((len(test_ids), size_pantry))\n",
    "\n",
    "for j in range(0, len(test_ids)):\n",
    "    img_path = 'resized_thumbs/' + test_ids[j] + '.jpg'\n",
    "\n",
    "\n",
    "    img = image.load_img(img_path, target_size=(224, 224))\n",
    "    img_arr = image.img_to_array(img)\n",
    "    x = np.expand_dims(img_arr, axis=0)  # The model only accepts batches so we add a dummy dimension.\n",
    "    x = vgg16.preprocess_input(x)  # The preprocessing should be the same that was used during training.\n",
    "\n",
    "    test_predictions[j] = m.predict(x)\n",
    "    \n",
    "    if (j % 10000 == 0):\n",
    "        print(str(j) + \"...\")\n"
   ]
  },
  {
   "cell_type": "code",
   "execution_count": null,
   "metadata": {
    "collapsed": false,
    "scrolled": true
   },
   "outputs": [],
   "source": [
    "from sklearn.metrics import average_precision_score\n",
    "for i in range(0, size_pantry):\n",
    "    y_true = np.array(test_labels_np[:,i])\n",
    "    y_scores = np.array(test_predictions[:,i])\n",
    "    print(average_precision_score(y_true, y_scores)) "
   ]
  },
  {
   "cell_type": "code",
   "execution_count": null,
   "metadata": {
    "collapsed": true
   },
   "outputs": [],
   "source": [
    "pickle.dump( [test_labels_np, test_], open( \"test_labels_predictions.p\", \"wb\" ) )"
   ]
  },
  {
   "cell_type": "code",
   "execution_count": null,
   "metadata": {
    "collapsed": true
   },
   "outputs": [],
   "source": [
    "[test_labels_np, test_predictions] = pickle.load( open( \"test_labels_predictions.p\", \"rb\" ) )"
   ]
  },
  {
   "cell_type": "code",
   "execution_count": null,
   "metadata": {
    "collapsed": false
   },
   "outputs": [],
   "source": [
    "print(__doc__)\n",
    "\n",
    "import matplotlib.pyplot as plt\n",
    "import numpy as np\n",
    "from itertools import cycle\n",
    "\n",
    "from sklearn.metrics import precision_recall_curve\n",
    "from sklearn.metrics import average_precision_score\n",
    "from sklearn.model_selection import train_test_split\n",
    "from sklearn.preprocessing import label_binarize\n",
    "from sklearn.multiclass import OneVsRestClassifier\n",
    "\n",
    "# Compute Precision-Recall and plot curve\n",
    "precision = dict()\n",
    "recall = dict()\n",
    "average_precision = dict()\n",
    "for i in range(size_pantry):\n",
    "    precision[i], recall[i], _ = precision_recall_curve(test_labels_np[:, i],\n",
    "                                                        test_predictions[:, i])\n",
    "    average_precision[i] = average_precision_score(test_labels_np[:, i], test_predictions[:, i])\n",
    "\n",
    "# Compute micro-average ROC curve and ROC area\n",
    "precision[\"micro\"], recall[\"micro\"], _ = precision_recall_curve(test_labels_np.ravel(),\n",
    "    test_predictions.ravel())\n",
    "average_precision[\"micro\"] = average_precision_score(test_labels_np, test_predictions,\n",
    "                                                     average=\"micro\")\n",
    "\n",
    "\n"
   ]
  },
  {
   "cell_type": "code",
   "execution_count": null,
   "metadata": {
    "collapsed": false,
    "scrolled": true
   },
   "outputs": [],
   "source": [
    "# Plot Precision-Recall curve\n",
    "for i in range(0,size_pantry):\n",
    "    plt.clf()\n",
    "    plt.plot(recall[i], precision[i], lw=2, color='navy',\n",
    "             label='Precision-Recall curve')\n",
    "    plt.xlabel('Recall')\n",
    "    plt.ylabel('Precision')\n",
    "    plt.ylim([0.0, 1.05])\n",
    "    plt.xlim([0.0, 1])\n",
    "    plt.title('Precision-Recall, ' + id2food[i] + ': AUC={0:0.2f}'.format(average_precision[i]))\n",
    "    plt.legend(loc=\"upper right\")\n",
    "    plt.show()"
   ]
  },
  {
   "cell_type": "code",
   "execution_count": 18,
   "metadata": {
    "collapsed": false
   },
   "outputs": [],
   "source": [
    "with open('model.json', 'w') as f:\n",
    "    f.write(m.to_json())"
   ]
  },
  {
   "cell_type": "code",
   "execution_count": null,
   "metadata": {
    "collapsed": true
   },
   "outputs": [],
   "source": [
    "!reboot"
   ]
  },
  {
   "cell_type": "code",
   "execution_count": null,
   "metadata": {
    "collapsed": true
   },
   "outputs": [],
   "source": [
    "# train_datagen = ImageDataGenerator(\n",
    "#         rescale=1./255,\n",
    "#         #shear_range=0.2,\n",
    "#         #zoom_range=0.2,\n",
    "#         horizontal_flip=True)\n",
    "\n",
    "# test_datagen = ImageDataGenerator(rescale=1./255)\n",
    "\n",
    "# train_generator = train_datagen.flow_from_directory(\n",
    "#         'images/',\n",
    "#         target_size=(224, 224),\n",
    "#         batch_size=32,\n",
    "#         class_mode=None)\n",
    "\n",
    "# validation_generator = test_datagen.flow_from_directory(\n",
    "#         'images/',\n",
    "#         target_size=(224, 224),\n",
    "#         batch_size=32,\n",
    "#         class_mode=None)\n",
    "\n",
    "# model.fit_generator(\n",
    "#         train_generator,\n",
    "#         samples_per_epoch=2000,\n",
    "#         nb_epoch=50,\n",
    "#         validation_data=validation_generator,\n",
    "#         nb_val_samples=800)"
   ]
  }
 ],
 "metadata": {
  "anaconda-cloud": {},
  "kernelspec": {
   "display_name": "Python 3",
   "language": "python",
   "name": "python3"
  },
  "language_info": {
   "codemirror_mode": {
    "name": "ipython",
    "version": 3
   },
   "file_extension": ".py",
   "mimetype": "text/x-python",
   "name": "python",
   "nbconvert_exporter": "python",
   "pygments_lexer": "ipython3",
   "version": "3.6.0"
  }
 },
 "nbformat": 4,
 "nbformat_minor": 1
}
