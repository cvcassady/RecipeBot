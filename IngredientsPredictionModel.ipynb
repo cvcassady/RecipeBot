{
 "cells": [
  {
   "cell_type": "code",
   "execution_count": 1,
   "metadata": {
    "collapsed": false
   },
   "outputs": [
    {
     "name": "stderr",
     "output_type": "stream",
     "text": [
      "Using TensorFlow backend.\n"
     ]
    }
   ],
   "source": [
    "import tensorflow as tf\n",
    "import numpy as np\n",
    "import random, json, string, pickle\n",
    "import keras\n",
    "import keras.layers\n",
    "from keras.layers.core import Flatten, Dense, Dropout\n",
    "from keras.layers.convolutional import Convolution2D, MaxPooling2D, ZeroPadding2D\n",
    "import keras.models\n",
    "from keras.models import Sequential\n",
    "import keras.optimizers\n",
    "import keras.callbacks\n",
    "from keras.preprocessing import image\n",
    "from keras.preprocessing.image import ImageDataGenerator\n",
    "import matplotlib.pyplot as plt\n",
    "import sqlite3\n",
    "%matplotlib inline\n",
    "\n",
    "import keras.applications.vgg16 as vgg16"
   ]
  },
  {
   "cell_type": "code",
   "execution_count": 2,
   "metadata": {
    "collapsed": true
   },
   "outputs": [],
   "source": [
    "def VGG_16(weights_path=None):\n",
    "    model = Sequential()\n",
    "    model.add(ZeroPadding2D((1,1),input_shape=(3,224,224)))\n",
    "    model.add(Convolution2D(64, 3, 3, activation='relu'))\n",
    "    model.add(ZeroPadding2D((1,1)))\n",
    "    model.add(Convolution2D(64, 3, 3, activation='relu'))\n",
    "    model.add(MaxPooling2D((2,2), strides=(2,2)))\n",
    "\n",
    "    model.add(ZeroPadding2D((1,1)))\n",
    "    model.add(Convolution2D(128, 3, 3, activation='relu'))\n",
    "    model.add(ZeroPadding2D((1,1)))\n",
    "    model.add(Convolution2D(128, 3, 3, activation='relu'))\n",
    "    model.add(MaxPooling2D((2,2), strides=(2,2)))\n",
    "\n",
    "    model.add(ZeroPadding2D((1,1)))\n",
    "    model.add(Convolution2D(256, 3, 3, activation='relu'))\n",
    "    model.add(ZeroPadding2D((1,1)))\n",
    "    model.add(Convolution2D(256, 3, 3, activation='relu'))\n",
    "    model.add(ZeroPadding2D((1,1)))\n",
    "    model.add(Convolution2D(256, 3, 3, activation='relu'))\n",
    "    model.add(MaxPooling2D((2,2), strides=(2,2)))\n",
    "\n",
    "    model.add(ZeroPadding2D((1,1)))\n",
    "    model.add(Convolution2D(512, 3, 3, activation='relu'))\n",
    "    model.add(ZeroPadding2D((1,1)))\n",
    "    model.add(Convolution2D(512, 3, 3, activation='relu'))\n",
    "    model.add(ZeroPadding2D((1,1)))\n",
    "    model.add(Convolution2D(512, 3, 3, activation='relu'))\n",
    "    model.add(MaxPooling2D((2,2), strides=(2,2)))\n",
    "\n",
    "    model.add(ZeroPadding2D((1,1)))\n",
    "    model.add(Convolution2D(512, 3, 3, activation='relu'))\n",
    "    model.add(ZeroPadding2D((1,1)))\n",
    "    model.add(Convolution2D(512, 3, 3, activation='relu'))\n",
    "    model.add(ZeroPadding2D((1,1)))\n",
    "    model.add(Convolution2D(512, 3, 3, activation='relu'))\n",
    "    model.add(MaxPooling2D((2,2), strides=(2,2)))\n",
    "\n",
    "    model.add(Flatten())\n",
    "    model.add(Dense(4096, activation='relu'))\n",
    "    model.add(Dropout(0.5))\n",
    "    model.add(Dense(4096, activation='relu'))\n",
    "    model.add(Dropout(0.5))\n",
    "    model.add(Dense(1000, activation='sigmoid'))\n",
    "\n",
    "    if weights_path:\n",
    "        model.load_weights(weights_path)\n",
    "\n",
    "    return model"
   ]
  },
  {
   "cell_type": "code",
   "execution_count": 14,
   "metadata": {
    "collapsed": false
   },
   "outputs": [
    {
     "name": "stdout",
     "output_type": "stream",
     "text": [
      "____________________________________________________________________________________________________\n",
      "Layer (type)                     Output Shape          Param #     Connected to                     \n",
      "====================================================================================================\n",
      "input_2 (InputLayer)             (None, 224, 224, 3)   0                                            \n",
      "____________________________________________________________________________________________________\n",
      "block1_conv1 (Convolution2D)     (None, 224, 224, 64)  0           input_2[0][0]                    \n",
      "____________________________________________________________________________________________________\n",
      "block1_conv2 (Convolution2D)     (None, 224, 224, 64)  0           block1_conv1[0][0]               \n",
      "____________________________________________________________________________________________________\n",
      "block1_pool (MaxPooling2D)       (None, 112, 112, 64)  0           block1_conv2[0][0]               \n",
      "____________________________________________________________________________________________________\n",
      "block2_conv1 (Convolution2D)     (None, 112, 112, 128) 0           block1_pool[0][0]                \n",
      "____________________________________________________________________________________________________\n",
      "block2_conv2 (Convolution2D)     (None, 112, 112, 128) 0           block2_conv1[0][0]               \n",
      "____________________________________________________________________________________________________\n",
      "block2_pool (MaxPooling2D)       (None, 56, 56, 128)   0           block2_conv2[0][0]               \n",
      "____________________________________________________________________________________________________\n",
      "block3_conv1 (Convolution2D)     (None, 56, 56, 256)   0           block2_pool[0][0]                \n",
      "____________________________________________________________________________________________________\n",
      "block3_conv2 (Convolution2D)     (None, 56, 56, 256)   0           block3_conv1[0][0]               \n",
      "____________________________________________________________________________________________________\n",
      "block3_conv3 (Convolution2D)     (None, 56, 56, 256)   0           block3_conv2[0][0]               \n",
      "____________________________________________________________________________________________________\n",
      "block3_pool (MaxPooling2D)       (None, 28, 28, 256)   0           block3_conv3[0][0]               \n",
      "____________________________________________________________________________________________________\n",
      "block4_conv1 (Convolution2D)     (None, 28, 28, 512)   0           block3_pool[0][0]                \n",
      "____________________________________________________________________________________________________\n",
      "block4_conv2 (Convolution2D)     (None, 28, 28, 512)   0           block4_conv1[0][0]               \n",
      "____________________________________________________________________________________________________\n",
      "block4_conv3 (Convolution2D)     (None, 28, 28, 512)   0           block4_conv2[0][0]               \n",
      "____________________________________________________________________________________________________\n",
      "block4_pool (MaxPooling2D)       (None, 14, 14, 512)   0           block4_conv3[0][0]               \n",
      "____________________________________________________________________________________________________\n",
      "block5_conv1 (Convolution2D)     (None, 14, 14, 512)   0           block4_pool[0][0]                \n",
      "____________________________________________________________________________________________________\n",
      "block5_conv2 (Convolution2D)     (None, 14, 14, 512)   0           block5_conv1[0][0]               \n",
      "____________________________________________________________________________________________________\n",
      "block5_conv3 (Convolution2D)     (None, 14, 14, 512)   0           block5_conv2[0][0]               \n",
      "____________________________________________________________________________________________________\n",
      "block5_pool (MaxPooling2D)       (None, 7, 7, 512)     0           block5_conv3[0][0]               \n",
      "____________________________________________________________________________________________________\n",
      "flatten_2 (Flatten)              (None, 25088)         0           block5_pool[0][0]                \n",
      "____________________________________________________________________________________________________\n",
      "dense_2 (Dense)                  (None, 1000)          25089000    flatten_2[0][0]                  \n",
      "====================================================================================================\n",
      "Total params: 25089000\n",
      "____________________________________________________________________________________________________\n",
      "None\n"
     ]
    }
   ],
   "source": [
    "# m = vgg16.VGG16(weights='imagenet')\n",
    "# m.layers.pop()\n",
    "# m.layers.append(Dense(1000, activation='sigmoid'))\n",
    "# adam = keras.optimizers.Adam(lr=0.001, beta_1=0.9, beta_2=0.999, epsilon=1e-08, decay=0.0)\n",
    "# m.compile(loss='binary_crossentropy', optimizer = adam, metrics=['accuracy'])\n",
    "# m.summary()\n",
    "\n",
    "# get the pretrained model (minus FC layers)\n",
    "original_model = vgg16.VGG16(weights='imagenet', include_top=False, input_tensor = vgg16.Input(shape=(224,224,3)))\n",
    "\n",
    "# freeze conv layers\n",
    "for layer in original_model.layers:\n",
    "    layer.trainable = False\n",
    "    #pass\n",
    "\n",
    "# construct model\n",
    "deep_features = Flatten()(original_model.output)\n",
    "#fc1 = Dense(10, activation=\"relu\")(deep_features)\n",
    "ingredients_guessing = Dense(1000, activation='sigmoid')(deep_features)#fc1)\n",
    "m = keras.models.Model(input=original_model.input, output=ingredients_guessing)\n",
    "\n",
    "print(m.summary())\n",
    "\n",
    "optimizer = keras.optimizers.SGD(lr=0.0001, momentum=0.9, decay=0, nesterov=True)\n",
    "#optimizer = Adam()\n",
    "m.compile(optimizer, loss='binary_crossentropy')"
   ]
  },
  {
   "cell_type": "code",
   "execution_count": null,
   "metadata": {
    "collapsed": false,
    "scrolled": true
   },
   "outputs": [],
   "source": [
    "# m = VGG_16()\n",
    "# #sgd = keras.optimizers.SGD(lr = 0.01, decay = 1e-2, momentum = 0.9)\n",
    "# adam = keras.optimizers.Adam(lr=0.001, beta_1=0.9, beta_2=0.999, epsilon=1e-08, decay=0.0)\n",
    "# m.compile(loss='binary_crossentropy', optimizer = adam, metrics=['accuracy'])\n",
    "# m.summary()"
   ]
  },
  {
   "cell_type": "markdown",
   "metadata": {},
   "source": [
    "Creating the Pantry"
   ]
  },
  {
   "cell_type": "code",
   "execution_count": 26,
   "metadata": {
    "collapsed": false
   },
   "outputs": [],
   "source": [
    "conn = sqlite3.connect(\"yummly.db\")\n",
    "recipes = conn.execute(\"SELECT ID, CleanIngredients FROM Recipe WHERE ImageAvailable=1;\").fetchall()\n",
    "conn.close()"
   ]
  },
  {
   "cell_type": "code",
   "execution_count": 27,
   "metadata": {
    "collapsed": true
   },
   "outputs": [],
   "source": [
    "def prepIngredients(ingredients_string):\n",
    "    return [x.strip() for x in ingredients_string.split(\";\")]\n",
    "\n",
    "recipes = [tuple([x[0], prepIngredients(x[1])])for x in recipes]"
   ]
  },
  {
   "cell_type": "code",
   "execution_count": 28,
   "metadata": {
    "collapsed": false
   },
   "outputs": [],
   "source": [
    "all_ingredients = np.array([item for sublist in recipes for item in sublist[1]])\n",
    "unique_ing = np.unique(all_ingredients, return_counts = True)\n",
    "\n",
    "argsort_results = np.argsort(unique_ing[1])\n",
    "\n",
    "sorted_ing = unique_ing[0][argsort_results]\n",
    "sorted_vals = unique_ing[1][argsort_results]\n",
    "sorted_ing = sorted_ing[::-1]\n",
    "\n",
    "id2food = sorted_ing[0:1000]\n",
    "food2id = {food: idx[0] for idx, food in np.ndenumerate(id2food)}\n",
    "\n"
   ]
  },
  {
   "cell_type": "code",
   "execution_count": 29,
   "metadata": {
    "collapsed": false
   },
   "outputs": [
    {
     "data": {
      "text/plain": [
       "'quinoa'"
      ]
     },
     "execution_count": 29,
     "metadata": {},
     "output_type": "execute_result"
    }
   ],
   "source": [
    "id2food[169]"
   ]
  },
  {
   "cell_type": "code",
   "execution_count": 30,
   "metadata": {
    "collapsed": true
   },
   "outputs": [],
   "source": [
    "# free up some memory\n",
    "all_ingredients = None\n",
    "argsort_results = None\n",
    "sorted_vals = None"
   ]
  },
  {
   "cell_type": "code",
   "execution_count": 31,
   "metadata": {
    "collapsed": false,
    "scrolled": true
   },
   "outputs": [],
   "source": [
    "ids = [] #[x[0] for x in recipes]\n",
    "recipe_ingredients = [x[1] for x in recipes]\n",
    "labels = [] #np.zeros([len(recipes), 1000])\n",
    "\n",
    "\n",
    "# Then we build our training data. We're not going to include\n",
    "# recipes that have 2 or more ingredients not in the top 1000\n",
    "for i in range(0, len(recipes)):\n",
    "    num_misses = 0\n",
    "    current_recipe = [0] * 1000\n",
    "    \n",
    "    for j in range(0, len(recipe_ingredients[i])):\n",
    "        if food2id.get(recipe_ingredients[i][j]) != None:\n",
    "            current_recipe[food2id.get(recipe_ingredients[i][j])] = 1\n",
    "        else:\n",
    "            num_misses = num_misses + 1\n",
    "    \n",
    "    if num_misses == 0 and sum(current_recipe) > 0:\n",
    "        labels.append(current_recipe)\n",
    "        ids.append(recipes[i][0])\n",
    "            \n",
    "    #labels[i, [food2id.get(x) for x in recipe_ingredients[i]]] = 1"
   ]
  },
  {
   "cell_type": "code",
   "execution_count": 50,
   "metadata": {
    "collapsed": true
   },
   "outputs": [],
   "source": [
    "recipe_ingredients = None\n",
    "recipes = None"
   ]
  },
  {
   "cell_type": "code",
   "execution_count": 18,
   "metadata": {
    "collapsed": true
   },
   "outputs": [],
   "source": []
  },
  {
   "cell_type": "code",
   "execution_count": 32,
   "metadata": {
    "collapsed": true
   },
   "outputs": [],
   "source": [
    "pickle.dump( [ids, labels, food2id, id2food], open( \"ids_labels_nomissing.p\", \"wb\" ) )"
   ]
  },
  {
   "cell_type": "code",
   "execution_count": 3,
   "metadata": {
    "collapsed": false
   },
   "outputs": [],
   "source": [
    "[ids, labels, food2id, id2food] = pickle.load( open( \"ids_labels_nomissing.p\", \"rb\" ) )"
   ]
  },
  {
   "cell_type": "code",
   "execution_count": 4,
   "metadata": {
    "collapsed": true
   },
   "outputs": [],
   "source": [
    "four_fifths = (len(labels) // 5) * 4\n",
    "\n",
    "train_ids = ids[0:four_fifths]\n",
    "train_labels = labels[0:four_fifths]\n",
    "\n",
    "test_ids = ids[four_fifths:]\n",
    "test_labels = labels[four_fifths:]"
   ]
  },
  {
   "cell_type": "code",
   "execution_count": 5,
   "metadata": {
    "collapsed": true
   },
   "outputs": [],
   "source": [
    "ids = None\n",
    "labels = None"
   ]
  },
  {
   "cell_type": "code",
   "execution_count": 6,
   "metadata": {
    "collapsed": false
   },
   "outputs": [
    {
     "data": {
      "text/plain": [
       "'caa726f4-8b6a-4549-b391-852b6fb36fd5'"
      ]
     },
     "execution_count": 6,
     "metadata": {},
     "output_type": "execute_result"
    }
   ],
   "source": [
    "train_ids[40]\n",
    "#train_labels[40]"
   ]
  },
  {
   "cell_type": "code",
   "execution_count": null,
   "metadata": {
    "collapsed": false
   },
   "outputs": [],
   "source": []
  },
  {
   "cell_type": "code",
   "execution_count": null,
   "metadata": {
    "collapsed": false,
    "scrolled": true
   },
   "outputs": [
    {
     "name": "stdout",
     "output_type": "stream",
     "text": [
      "Epoch 1/10\n",
      "  4160/256000 [..............................] - ETA: 4256s - loss: 0.1281"
     ]
    }
   ],
   "source": [
    "import random\n",
    "\n",
    "# We need to rely on this because we can not load 50k images on memory at the same time.\n",
    "def DataGenerator(imageIds, imageLabels, batch_size):\n",
    "    batch = np.zeros((batch_size, 224, 224, 3))\n",
    "    labels = np.zeros((batch_size, 1000))\n",
    "    while True:\n",
    "        batch_bad = False\n",
    "        \n",
    "        for i in range(0, batch_size):\n",
    "            index = random.randint(0, len(imageIds) - 1)\n",
    "            img_path = 'resized_thumbs/' + imageIds[index] + \".jpg\"\n",
    "            \n",
    "            try:   \n",
    "                #turns out a small number of our images are corrupted\n",
    "                img = image.load_img(img_path, target_size=(224, 224))\n",
    "            except:\n",
    "                #print(\"Error reading image: \" + imageIds[index])\n",
    "                batch_bad = True\n",
    "                \n",
    "            \n",
    "            img = image.img_to_array(img)\n",
    "            batch[i, :, :, :] = img\n",
    "            labels[i, :] = imageLabels[index]#, :]\n",
    "        batch = vgg16.preprocess_input(batch)\n",
    "        \n",
    "        if batch_bad is False:\n",
    "            yield batch, labels\n",
    "        \n",
    "\n",
    "m.fit_generator(DataGenerator(train_ids, train_labels, 64), 256000, nb_epoch = 10,\n",
    "                         validation_data = DataGenerator(test_ids, test_labels, 64),\n",
    "                         nb_val_samples = 200,\n",
    "                         nb_worker = 3, max_q_size = 4, pickle_safe = True)\n",
    "\n",
    "m.save_weights('full_model_weights.hdf5')"
   ]
  },
  {
   "cell_type": "code",
   "execution_count": 38,
   "metadata": {
    "collapsed": false
   },
   "outputs": [
    {
     "data": {
      "text/plain": [
       "401432"
      ]
     },
     "execution_count": 38,
     "metadata": {},
     "output_type": "execute_result"
    }
   ],
   "source": [
    "len(train_ids)"
   ]
  },
  {
   "cell_type": "code",
   "execution_count": 30,
   "metadata": {
    "collapsed": false
   },
   "outputs": [
    {
     "data": {
      "text/plain": [
       "'536a05ee-882b-4522-bbaa-8c9e334d3223'"
      ]
     },
     "execution_count": 30,
     "metadata": {},
     "output_type": "execute_result"
    }
   ],
   "source": [
    "train_ids[42]"
   ]
  },
  {
   "cell_type": "code",
   "execution_count": 19,
   "metadata": {
    "collapsed": false
   },
   "outputs": [],
   "source": [
    "m.save_weights('full_model_weights.hdf5')"
   ]
  },
  {
   "cell_type": "code",
   "execution_count": null,
   "metadata": {
    "collapsed": false
   },
   "outputs": [],
   "source": [
    "image.img_to_array(image.load_img(img_path, target_size=(224, 224))).shape"
   ]
  },
  {
   "cell_type": "code",
   "execution_count": null,
   "metadata": {
    "collapsed": true
   },
   "outputs": [],
   "source": [
    "print(\"hello\")"
   ]
  },
  {
   "cell_type": "code",
   "execution_count": 73,
   "metadata": {
    "collapsed": false
   },
   "outputs": [
    {
     "name": "stdout",
     "output_type": "stream",
     "text": [
      "ec862798-1028-4b73-b541-ff5426170ed6\n",
      "('Moist Almond and Orange Cakes',)\n",
      "Input image size: (1, 224, 224, 3)\n",
      "\n",
      "Ground truth with Prediction\n",
      "eggs: 0.501232\n",
      "unsalted butter: 0.136357\n",
      "orange: 2.4702e-13\n",
      "unbleached flour: 1.23651e-14\n",
      "slivered almonds: 1.58291e-17\n",
      "marzipan: 6.59204e-18\n",
      "\n",
      "All Predictions over 1% certainty:\n",
      "salt: 0.999342\n",
      "sugar: 0.193312\n",
      "eggs: 0.501232\n",
      "water: 0.0109304\n",
      "unsalted butter: 0.136357\n",
      "baking powder: 0.992125\n",
      "vegetable oil: 0.160578\n",
      "cumin: 0.574615\n",
      "peanut butter: 0.327492\n",
      "chocolate morsels: 0.0462892\n",
      "musskatnuss: 0.104288\n",
      "rice cereal: 0.125426\n",
      "sojasauce: 0.956413\n"
     ]
    },
    {
     "data": {
      "image/png": "[encoded data removed]",
      "text/plain": [
       "<matplotlib.figure.Figure at 0x7f65c53b7c50>"
      ]
     },
     "metadata": {},
     "output_type": "display_data"
    }
   ],
   "source": [
    "#img_path = 'download.jpg'  # This is an image I took in my kitchen.\n",
    "j = random.randint(0,len(train_ids))\n",
    "print(train_ids[j])\n",
    "img_path = 'images/' + train_ids[j] + '.jpg'\n",
    "img = image.load_img(img_path, target_size=(224, 224))\n",
    "img_arr = image.img_to_array(img)\n",
    "x = np.expand_dims(img_arr, axis=0)  # The model only accepts batches so we add a dummy dimension.\n",
    "x = vgg16.preprocess_input(x)  # The preprocessing should be the same that was used during training.\n",
    "\n",
    "predictions = m.predict(x)\n",
    "\n",
    "#label_predictions = vgg16.decode_predictions(predictions, top = 10)\n",
    "\n",
    "conn = sqlite3.connect(\"yummly.db\")\n",
    "print(conn.execute(\"SELECT Title FROM Recipe WHERE ID='\" + str(train_ids[j]) + \"';\").fetchone())\n",
    "conn.close()\n",
    "\n",
    "print('Input image size:', x.shape)\n",
    "\n",
    "\n",
    "plt.imshow(np.asarray(img));\n",
    "\n",
    "print('\\nGround truth with Prediction')\n",
    "for i in range(0,1000):\n",
    "    if train_labels[j][i] == 1:\n",
    "        print(id2food[i] + \": \" + str(predictions[0][i]))\n",
    "\n",
    "\n",
    "print('\\nAll Predictions over 1% certainty:')\n",
    "for i in range(0,1000):\n",
    "    if predictions[0][i] > 0.01:\n",
    "        print(id2food[i] + \": \" + str(predictions[0][i]))"
   ]
  },
  {
   "cell_type": "code",
   "execution_count": null,
   "metadata": {
    "collapsed": false
   },
   "outputs": [],
   "source": [
    "len(predictions)"
   ]
  },
  {
   "cell_type": "code",
   "execution_count": null,
   "metadata": {
    "collapsed": true
   },
   "outputs": [],
   "source": [
    "# train_datagen = ImageDataGenerator(\n",
    "#         rescale=1./255,\n",
    "#         #shear_range=0.2,\n",
    "#         #zoom_range=0.2,\n",
    "#         horizontal_flip=True)\n",
    "\n",
    "# test_datagen = ImageDataGenerator(rescale=1./255)\n",
    "\n",
    "# train_generator = train_datagen.flow_from_directory(\n",
    "#         'images/',\n",
    "#         target_size=(224, 224),\n",
    "#         batch_size=32,\n",
    "#         class_mode=None)\n",
    "\n",
    "# validation_generator = test_datagen.flow_from_directory(\n",
    "#         'images/',\n",
    "#         target_size=(224, 224),\n",
    "#         batch_size=32,\n",
    "#         class_mode=None)\n",
    "\n",
    "# model.fit_generator(\n",
    "#         train_generator,\n",
    "#         samples_per_epoch=2000,\n",
    "#         nb_epoch=50,\n",
    "#         validation_data=validation_generator,\n",
    "#         nb_val_samples=800)"
   ]
  }
 ],
 "metadata": {
  "anaconda-cloud": {},
  "kernelspec": {
   "display_name": "Python [conda root]",
   "language": "python",
   "name": "conda-root-py"
  },
  "language_info": {
   "codemirror_mode": {
    "name": "ipython",
    "version": 3
   },
   "file_extension": ".py",
   "mimetype": "text/x-python",
   "name": "python",
   "nbconvert_exporter": "python",
   "pygments_lexer": "ipython3",
   "version": "3.5.2"
  }
 },
 "nbformat": 4,
 "nbformat_minor": 1
}
